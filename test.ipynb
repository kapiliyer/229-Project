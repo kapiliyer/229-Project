{
 "cells": [
  {
   "cell_type": "code",
   "execution_count": 12,
   "metadata": {},
   "outputs": [],
   "source": [
    "import pandas as pd\n",
    "from random import sample\n",
    "import random\n",
    "import numpy as np\n",
    "from sklearn.model_selection import train_test_split\n",
    "import os\n",
    "\n",
    "for folder in ['multitask', 'para_single', 'sts_single', 'multitask_pcgrad', 'multitask_gradnorm', 'multitask_cagrad']:\n",
    "    try:\n",
    "        os.mkdir('./models/' + folder)\n",
    "    except:\n",
    "        pass\n",
    "\n",
    "random.seed(0)\n",
    "\n",
    "sts_train = pd.read_csv('./data/sts-train.csv', sep=\"\\t\")\n",
    "sts_train = sts_train.dropna()\n",
    "\n",
    "para_train = pd.read_csv('./data/quora-train.csv', sep=\"\\t\")\n",
    "para_train = para_train.dropna()[:len(sts_train)]\n",
    "\n",
    "sts_dev = pd.read_csv('./data/sts-dev.csv', sep=\"\\t\")\n",
    "sts_dev = sts_dev.dropna() \n",
    "\n",
    "para_dev = pd.read_csv('./data/quora-dev.csv', sep=\"\\t\")\n",
    "para_dev = para_dev.dropna()[:len(sts_dev)]\n",
    "\n",
    "sts_combined_set = pd.concat([sts_train, sts_dev], ignore_index=True, axis=0)\n",
    "para_combined_set = pd.concat([para_train, para_dev], ignore_index=True, axis=0)\n",
    "\n",
    "sts_train, sts_dev = train_test_split(sts_combined_set, test_size=0.3, train_size=0.7, shuffle=False)\n",
    "sts_dev, sts_test = train_test_split(sts_dev, test_size=0.5, train_size=0.5, shuffle=False)\n",
    "para_train, para_dev = train_test_split(para_combined_set, test_size=0.3, train_size=0.7, shuffle=False)\n",
    "para_dev, para_test = train_test_split(para_dev, test_size=0.5, train_size=0.5, shuffle=False)"
   ]
  },
  {
   "cell_type": "code",
   "execution_count": 13,
   "metadata": {},
   "outputs": [],
   "source": [
    "from sentence_transformers import SentenceTransformer\n",
    "# sentences = [\"This is an example sentence\", \"Each sentence is converted\"]\n",
    "\n",
    "# model = SentenceTransformer('sentence-transformers/all-mpnet-base-v2')\n",
    "# embeddings = model.encode(sentences, convert_to_tensor=True)\n",
    "# print(embeddings)\n",
    "# print(para_train.head())"
   ]
  },
  {
   "cell_type": "code",
   "execution_count": 14,
   "metadata": {},
   "outputs": [],
   "source": [
    "from torch import nn\n",
    "import torch\n",
    "import torch.nn.functional as F\n",
    "import torch.utils.data as data_utils\n",
    "from torch.utils.data import DataLoader, Dataset\n",
    "\n",
    "\n",
    "N_PARAPHRASE_CLASSES = 1\n",
    "N_SIMILARITY_CLASSES = 1\n",
    "DROPOUT_PROB = 0.5\n",
    "INPUT_SIZE = 768\n",
    "\n",
    "class NLP_Model(nn.Module):\n",
    "    def __init__(self, model):\n",
    "        super(NLP_Model, self).__init__()\n",
    "        self.model = model\n",
    "        self.dropout = nn.Dropout(DROPOUT_PROB)\n",
    "        self.paraphrase_linear = nn.Linear(INPUT_SIZE, INPUT_SIZE // 2)\n",
    "        self.paraphrase_linear_interact = nn.Linear(INPUT_SIZE, N_PARAPHRASE_CLASSES)\n",
    "        self.similarity_linear = nn.Linear(INPUT_SIZE, INPUT_SIZE // 2)\n",
    "    \n",
    "    def forward(self, sentences1, sentences2, task, device):\n",
    "        '''\n",
    "        Task 0 is para. Task 1 is similarity.\n",
    "        '''\n",
    "        sentences1 = self.model.encode(sentences1.tolist(), convert_to_tensor=True)\n",
    "        sentences1 = sentences1.to(device)\n",
    "        sentences2 = self.model.encode(sentences2.tolist(), convert_to_tensor=True)\n",
    "        sentences2 = sentences2.to(device)\n",
    "        sentences1 = self.dropout(sentences1)\n",
    "        sentences2 = self.dropout(sentences2)\n",
    "        if task == 0:\n",
    "            sentences1 = F.relu(self.paraphrase_linear(sentences1))\n",
    "            sentences2 = F.relu(self.paraphrase_linear(sentences2))\n",
    "            combined = torch.concat((sentences1, sentences2), dim=-1)\n",
    "            combined = self.dropout(combined)\n",
    "            return F.sigmoid(self.paraphrase_linear_interact(combined))\n",
    "        if task == 1:\n",
    "            sentences1 = F.relu(self.similarity_linear(sentences1))\n",
    "            sentences2 = F.relu(self.similarity_linear(sentences2))\n",
    "            return F.relu(F.cosine_similarity(sentences1, sentences2)) * 5\n"
   ]
  },
  {
   "cell_type": "code",
   "execution_count": 15,
   "metadata": {},
   "outputs": [],
   "source": [
    "from torch.optim import AdamW\n",
    "\n",
    "def save_model(model, filepath):\n",
    "    save_info = {\n",
    "        'model': model.state_dict(),\n",
    "        'system_rng': random.getstate(),\n",
    "        'numpy_rng': np.random.get_state(),\n",
    "        'torch_rng': torch.random.get_rng_state(),\n",
    "    }\n",
    "\n",
    "    torch.save(save_info, f'{filepath}/model')\n",
    "    model.model.save(f'{filepath}/transformer')\n",
    "    print(f\"saved the model to {filepath}\")\n",
    "\n",
    "def load_model(filepath, device):\n",
    "    with torch.no_grad():\n",
    "        save_info = torch.load(f'{filepath}/model')\n",
    "        transformer_model = SentenceTransformer(f'{filepath}/transformer')\n",
    "        transformer_model.to(device)\n",
    "        \n",
    "        model = NLP_Model(transformer_model)\n",
    "        model.load_state_dict(save_info['model'])\n",
    "        model.to(device)\n",
    "        \n",
    "        random.setstate(save_info['system_rng'])\n",
    "        np.random.set_state(save_info['numpy_rng'])\n",
    "        torch.random.set_rng_state(save_info['torch_rng'])\n",
    "    return model"
   ]
  },
  {
   "cell_type": "code",
   "execution_count": 16,
   "metadata": {},
   "outputs": [],
   "source": [
    "from math import ceil\n",
    "\n",
    "def get_batches(dataset, batch_size=512):\n",
    "    \"\"\"\n",
    "    Pass in dataset and batch size.\n",
    "    Get generator which yields batches.\n",
    "    \"\"\"\n",
    "    return enumerate(dataset[i*batch_size:(i+1)*batch_size] for i in range(ceil(dataset.shape[0] / batch_size)))"
   ]
  },
  {
   "cell_type": "code",
   "execution_count": 17,
   "metadata": {},
   "outputs": [],
   "source": [
    "from torch.optim import AdamW\n",
    "from torch.optim.lr_scheduler import ReduceLROnPlateau\n",
    "from tqdm import tqdm\n",
    "NUM_EPOCHS = 30\n",
    "\n",
    "def train_singletask_para_model(para_train, para_dev, filepath):\n",
    "    '''\n",
    "    use AdamW optimizer.\n",
    "    binary cross-entropy loss.\n",
    "    make sure to save model at end to a specific path.\n",
    "    '''\n",
    "    device = torch.device('cuda')\n",
    "    \n",
    "    transformer = SentenceTransformer('sentence-transformers/all-mpnet-base-v2')\n",
    "    transformer.to(device)\n",
    "\n",
    "    model = NLP_Model(transformer)\n",
    "    model = model.to(device)\n",
    "\n",
    "    optimizer = AdamW(list(model.parameters()) + list(transformer.parameters()), lr=1e-2) #~SGD with weight decay 0.01\n",
    "    scheduler = ReduceLROnPlateau(optimizer, 'max')\n",
    "\n",
    "    best_dev_acc = 0\n",
    "\n",
    "    train_para_accuracy = eval_singletask_model(model, device, para_train, 0, 'train')\n",
    "    dev_para_accuracy = eval_singletask_model(model, device, para_dev, 0, 'dev')\n",
    "    print(f\"epoch number: 0, para train accuracy: {train_para_accuracy}, para dev accuracy: {dev_para_accuracy}\")\n",
    "\n",
    "    losses = []\n",
    "\n",
    "    for epoch in range(NUM_EPOCHS):\n",
    "        model.train()\n",
    "        transformer.train()\n",
    "        total_loss = 0\n",
    "\n",
    "        for step, batch in tqdm(get_batches(para_train), desc='train'):\n",
    "            b_sentences1, b_sentences2, b_labels = batch['sentence1'], batch['sentence2'], batch['is_duplicate']\n",
    "            optimizer.zero_grad()\n",
    "            logits = model.forward(b_sentences1, b_sentences2, 0, device).flatten()\n",
    "\n",
    "            b_labels = torch.as_tensor(b_labels.values, dtype=torch.float32)\n",
    "            b_labels = b_labels.to(device)\n",
    "\n",
    "            loss = F.binary_cross_entropy(logits, b_labels, reduction='mean')\n",
    "            total_loss += loss.item()\n",
    "            loss.backward()\n",
    "            optimizer.step()\n",
    "\n",
    "        losses.append(total_loss / step)\n",
    "        \n",
    "        train_para_accuracy = eval_singletask_model(model, device, para_train, 0, 'train')\n",
    "        dev_para_accuracy = eval_singletask_model(model, device, para_dev, 0, 'dev')\n",
    "        print(f\"epoch number: {epoch + 1}, para train accuracy: {train_para_accuracy}, para dev accuracy: {dev_para_accuracy}\")\n",
    "\n",
    "        scheduler.step(dev_para_accuracy)\n",
    "\n",
    "        if dev_para_accuracy >= best_dev_acc:\n",
    "            best_dev_acc = dev_para_accuracy\n",
    "            print('New best model. Saving.')\n",
    "            save_model(model, filepath)\n",
    "    \n",
    "    print(losses)\n",
    "\n",
    "\n",
    "def train_singletask_sts_model(sts_train, sts_dev, filepath):\n",
    "    '''\n",
    "    use AdamW optimizer.\n",
    "    multi-class cross-entropy loss.\n",
    "    make sure to save model at end to a specific path.\n",
    "    '''\n",
    "    device = torch.device('cuda')\n",
    "    \n",
    "    transformer = SentenceTransformer('sentence-transformers/all-mpnet-base-v2')\n",
    "    transformer.to(device)\n",
    "\n",
    "    model = NLP_Model(transformer)\n",
    "    model = model.to(device)\n",
    "\n",
    "    optimizer = AdamW(list(model.parameters()) + list(transformer.parameters()), lr=1e-2) #~SGD with weight decay 0.01\n",
    "    scheduler = ReduceLROnPlateau(optimizer, 'max')\n",
    "\n",
    "    best_dev_acc = 0\n",
    "\n",
    "    train_sts_acc = eval_singletask_model(model, device, sts_train, 1, 'train')\n",
    "    dev_sts_acc = eval_singletask_model(model, device, sts_dev, 1, 'dev')\n",
    "    print(f\"epoch number: 0, sts train accuracy: {train_sts_acc}, sts dev accuracy: {dev_sts_acc}\")\n",
    "\n",
    "    losses = []\n",
    "\n",
    "    for epoch in range(NUM_EPOCHS):\n",
    "        model.train()\n",
    "        transformer.train()\n",
    "        total_loss = 0\n",
    "\n",
    "        for step, batch in tqdm(get_batches(sts_train), desc='train'):\n",
    "            b_sentences1, b_sentences2, b_labels = batch['sentence1'], batch['sentence2'], batch['similarity']\n",
    "            optimizer.zero_grad()\n",
    "            logits = model.forward(b_sentences1, b_sentences2, 1, device).flatten()\n",
    "\n",
    "            b_labels = torch.as_tensor(b_labels.values, dtype=torch.float32)\n",
    "            b_labels = b_labels.to(device)\n",
    "\n",
    "            loss = F.mse_loss(logits, b_labels, reduction='mean')\n",
    "            total_loss += loss.item()\n",
    "            loss.backward()\n",
    "            optimizer.step()\n",
    "\n",
    "        losses.append(total_loss / step)\n",
    "\n",
    "        train_sts_acc = eval_singletask_model(model, device, sts_train, 1, 'train')\n",
    "        dev_sts_acc = eval_singletask_model(model, device, sts_dev, 1, 'dev')\n",
    "        print(f\"epoch number: {epoch + 1}, sts train accuracy: {train_sts_acc}, sts dev accuracy: {dev_sts_acc}\")\n",
    "\n",
    "        scheduler.step(dev_sts_acc)\n",
    "\n",
    "        if dev_sts_acc >= best_dev_acc:\n",
    "            best_dev_acc = dev_sts_acc\n",
    "            print('New best model. Saving.')\n",
    "            save_model(model, filepath)\n",
    "    \n",
    "    print(losses)"
   ]
  },
  {
   "attachments": {},
   "cell_type": "markdown",
   "metadata": {},
   "source": [
    "https://huggingface.co/docs/transformers/training#train-in-native-pytorch"
   ]
  },
  {
   "cell_type": "code",
   "execution_count": 18,
   "metadata": {},
   "outputs": [],
   "source": [
    "def eval_singletask_model(model, device, dataset, task, flag):\n",
    "    '''\n",
    "    given dataloader, 2 task-specific finetuned models, and device\n",
    "    return the accuracy for para and for sts\n",
    "    '''\n",
    "    model.eval()\n",
    "    model.model.eval()\n",
    "    with torch.no_grad():\n",
    "        truth = []\n",
    "        predictions = []\n",
    "        for step, batch in tqdm(get_batches(dataset), desc=f\"{flag} eval\"):\n",
    "            b_sentences1, b_sentences2, b_labels = batch['sentence1'], batch['sentence2'], batch['is_duplicate' if task == 0 else 'similarity']\n",
    "            truth.extend(b_labels)\n",
    "            logits = model.forward(b_sentences1, b_sentences2, task, device)\n",
    "            logits = logits.detach().cpu().numpy().flatten()\n",
    "            if task == 0:\n",
    "                new_predictions = np.round(logits).flatten()\n",
    "            else:\n",
    "                new_predictions = logits.flatten()\n",
    "            predictions.extend(new_predictions)\n",
    "        if task == 0:\n",
    "            accuracy = (np.array(truth).flatten() == np.array(predictions).flatten()).mean()\n",
    "        else:\n",
    "            accuracy = (np.abs(np.array(truth).flatten() - np.array(predictions).flatten()) <= 0.5).mean()\n",
    "    return accuracy"
   ]
  },
  {
   "cell_type": "code",
   "execution_count": 19,
   "metadata": {},
   "outputs": [],
   "source": [
    "from pcgrad import PCGrad\n",
    "\n",
    "def train_multitask_model(para_train, para_dev, sts_train, sts_dev, filepath, pcgrad_flag):\n",
    "    '''\n",
    "    use AdamW optimizer.\n",
    "    binary cross-entropy loss for para, multi-class cross-entropy loss for sts, sum loss functions. \n",
    "    make sure to save model at end to a specific path.\n",
    "    '''\n",
    "    device = torch.device('cuda')\n",
    "    \n",
    "    transformer = SentenceTransformer('sentence-transformers/all-mpnet-base-v2')\n",
    "    transformer.to(device)\n",
    "\n",
    "    model = NLP_Model(transformer)\n",
    "    model = model.to(device)\n",
    "\n",
    "    optimizer = AdamW(list(model.parameters()) + list(transformer.parameters()), lr=1e-2) #~SGD with weight decay 0.01\n",
    "    scheduler = ReduceLROnPlateau(optimizer, 'min')\n",
    "    if pcgrad_flag: optimizer = PCGrad(optimizer)\n",
    "\n",
    "    best_dev_acc = 0\n",
    "\n",
    "    train_para_acc = eval_singletask_model(model, device, para_train, 0, 'train')\n",
    "    dev_para_acc = eval_singletask_model(model, device, para_dev, 0, 'dev')\n",
    "    train_sts_acc = eval_singletask_model(model, device, sts_train, 1, 'train')\n",
    "    dev_sts_acc = eval_singletask_model(model, device, sts_dev, 1, 'dev')\n",
    "    print(f\"epoch number: 0, para train accuracy: {train_para_acc}, para dev accuracy: {dev_para_acc}, sts train accuracy: {train_sts_acc}, sts dev accuracy: {dev_sts_acc}\")\n",
    "\n",
    "    train_acc = (train_para_acc + train_sts_acc) / 2\n",
    "    dev_acc = (dev_para_acc + dev_sts_acc) / 2\n",
    "    print(f\"epoch number: 0, avg train accuracy: {train_acc}, avg dev accuracy: {dev_acc}\")\n",
    "\n",
    "    for epoch in range(NUM_EPOCHS):\n",
    "        model.train()\n",
    "        transformer.train()\n",
    "\n",
    "        for (para_step, para_batch), (sts_step, sts_batch) in zip(tqdm(get_batches(para_train), desc='train'), tqdm(get_batches(sts_train), desc='train')):\n",
    "            b_para_sentences1, b_para_sentences2, b_para_labels = para_batch['sentence1'], para_batch['sentence2'], para_batch['is_duplicate']\n",
    "            b_sts_sentences1, b_sts_sentences2, b_sts_labels = sts_batch['sentence1'], sts_batch['sentence2'], sts_batch['similarity']\n",
    "\n",
    "            optimizer.zero_grad()\n",
    "\n",
    "            para_logits = model.forward(b_para_sentences1, b_para_sentences2, 0, device).flatten()\n",
    "            sts_logits = model.forward(b_sts_sentences1, b_sts_sentences2, 1, device).flatten()\n",
    "\n",
    "            b_para_labels = torch.as_tensor(b_para_labels.values, dtype=torch.float32)\n",
    "            b_para_labels = b_para_labels.to(device)\n",
    "            b_sts_labels = torch.as_tensor(b_sts_labels.values, dtype=torch.float32)\n",
    "            b_sts_labels = b_sts_labels.to(device)\n",
    "\n",
    "            loss = (F.binary_cross_entropy(para_logits, b_para_labels, reduction='mean') + F.mse_loss(sts_logits, b_sts_labels, reduction='mean')) / 2\n",
    "            loss.backward()\n",
    "            optimizer.step()\n",
    "\n",
    "        train_para_acc = eval_singletask_model(model, device, para_train, 0, 'train')\n",
    "        dev_para_acc = eval_singletask_model(model, device, para_dev, 0, 'dev')\n",
    "        train_sts_acc = eval_singletask_model(model, device, sts_train, 1, 'train')\n",
    "        dev_sts_acc = eval_singletask_model(model, device, sts_dev, 1, 'dev')\n",
    "        print(f\"epoch number: {epoch + 1}, para train accuracy: {train_para_acc}, para dev accuracy: {dev_para_acc}, sts train accuracy: {train_sts_acc}, sts dev accuracy: {dev_sts_acc}\")\n",
    "\n",
    "        train_acc = (train_para_acc + train_sts_acc) / 2\n",
    "        dev_acc = (dev_para_acc + dev_sts_acc) / 2\n",
    "        print(f\"epoch number: {epoch + 1}, avg train accuracy: {train_acc}, avg dev accuracy: {dev_acc}\")\n",
    "\n",
    "        scheduler.step(dev_acc, 'max')\n",
    "\n",
    "        if dev_acc >= best_dev_acc:\n",
    "            best_dev_acc = dev_acc\n",
    "            print('New best model. Saving.')\n",
    "            save_model(model, filepath) "
   ]
  },
  {
   "cell_type": "code",
   "execution_count": 20,
   "metadata": {},
   "outputs": [],
   "source": [
    "def train_multitask_model_gradnorm(para_train, para_dev, sts_train, sts_dev, filepath, alpha, layer):\n",
    "    '''\n",
    "    use AdamW optimizer.\n",
    "    binary cross-entropy loss for para, multi-class cross-entropy loss for sts, sum loss functions. \n",
    "    make sure to save model at end to a specific path.\n",
    "    '''\n",
    "    device = torch.device('cuda')\n",
    "    \n",
    "    transformer = SentenceTransformer('sentence-transformers/all-mpnet-base-v2')\n",
    "    transformer.to(device)\n",
    "\n",
    "    model = NLP_Model(transformer)\n",
    "    model = model.to(device)\n",
    "\n",
    "    optimizer = AdamW(list(model.parameters()) + list(transformer.parameters()), lr=1e-2) #~SGD with weight decay 0.01\n",
    "    scheduler = ReduceLROnPlateau(optimizer, 'min')\n",
    "\n",
    "    best_dev_acc = 0\n",
    "\n",
    "    train_para_acc = eval_singletask_model(model, device, para_train, 0, 'train')\n",
    "    dev_para_acc = eval_singletask_model(model, device, para_dev, 0, 'dev')\n",
    "    train_sts_acc = eval_singletask_model(model, device, sts_train, 1, 'train')\n",
    "    dev_sts_acc = eval_singletask_model(model, device, sts_dev, 1, 'dev')\n",
    "    print(f\"epoch number: 0, para train accuracy: {train_para_acc}, para dev accuracy: {dev_para_acc}, sts train accuracy: {train_sts_acc}, sts dev accuracy: {dev_sts_acc}\")\n",
    "\n",
    "    train_acc = (train_para_acc + train_sts_acc) / 2\n",
    "    dev_acc = (dev_para_acc + dev_sts_acc) / 2\n",
    "    print(f\"epoch number: 0, avg train accuracy: {train_acc}, avg dev accuracy: {dev_acc}\")\n",
    "\n",
    "    iters = 0\n",
    "\n",
    "    for epoch in range(NUM_EPOCHS):\n",
    "        model.train()\n",
    "        transformer.train()\n",
    "\n",
    "        for (para_step, para_batch), (sts_step, sts_batch) in zip(tqdm(get_batches(para_train), desc='train'), tqdm(get_batches(sts_train), desc='train')):\n",
    "            b_para_sentences1, b_para_sentences2, b_para_labels = para_batch['sentence1'], para_batch['sentence2'], para_batch['is_duplicate']\n",
    "            b_sts_sentences1, b_sts_sentences2, b_sts_labels = sts_batch['sentence1'], sts_batch['sentence2'], sts_batch['similarity']\n",
    "\n",
    "            optimizer.zero_grad()\n",
    "\n",
    "            para_logits = model.forward(b_para_sentences1, b_para_sentences2, 0, device).flatten()\n",
    "            sts_logits = model.forward(b_sts_sentences1, b_sts_sentences2, 1, device).flatten()\n",
    "\n",
    "            b_para_labels = torch.as_tensor(b_para_labels.values, dtype=torch.float32)\n",
    "            b_para_labels = b_para_labels.to(device)\n",
    "            b_sts_labels = torch.as_tensor(b_sts_labels.values, dtype=torch.float32)\n",
    "            b_sts_labels = b_sts_labels.to(device)\n",
    "\n",
    "            loss = (F.binary_cross_entropy(para_logits, b_para_labels, reduction='mean') + F.mse_loss(sts_logits, b_sts_labels, reduction='mean')) / 2\n",
    "            if iters == 0:\n",
    "                weights = torch.ones_like(loss)\n",
    "                weights = torch.nn.Parameter(weights)\n",
    "                T = weights.sum().detach()\n",
    "                optimizer2 = torch.optim.Adam([weights], lr=1e-2)\n",
    "                l0 = loss.detach()\n",
    "            weighted_loss = np.dot(weights, loss)\n",
    "            weighted_loss.backward()\n",
    "            gradient_weights = []\n",
    "            for i in range(len(loss)):\n",
    "                d_l = torch.autograd.grad(weights[i] * loss[i], layer.parameters())[0]\n",
    "                gradient_weights.append(torch.norm(d_l))\n",
    "            gradient_weights = torch.stack(gradient_weights)\n",
    "            lossratio = loss.detach() / l0\n",
    "            r_t = lossratio / lossratio.mean()\n",
    "            avg_gradient_weight = gradient_weights.mean().detach()\n",
    "            const_factor = (avg_gradient_weight * r_t ** alpha).detach()\n",
    "            gradnormloss = torch.abs(gradient_weights - const_factor).sum()\n",
    "            optimizer2.zero_grad()\n",
    "            gradnormloss.backward()\n",
    "            optimizer.step()\n",
    "            optimizer2.step()\n",
    "            weights = (weights / weights.sum() * T).detach()\n",
    "            weights = torch.nn.Parameter(weights)\n",
    "            optimizer2 = torch.optim.Adam([weights], lr=1e-2)\n",
    "            iters += 1\n",
    "\n",
    "        train_para_acc = eval_singletask_model(model, device, para_train, 0, 'train')\n",
    "        dev_para_acc = eval_singletask_model(model, device, para_dev, 0, 'dev')\n",
    "        train_sts_acc = eval_singletask_model(model, device, sts_train, 1, 'train')\n",
    "        dev_sts_acc = eval_singletask_model(model, device, sts_dev, 1, 'dev')\n",
    "        print(f\"epoch number: {epoch + 1}, para train accuracy: {train_para_acc}, para dev accuracy: {dev_para_acc}, sts train accuracy: {train_sts_acc}, sts dev accuracy: {dev_sts_acc}\")\n",
    "\n",
    "        train_acc = (train_para_acc + train_sts_acc) / 2\n",
    "        dev_acc = (dev_para_acc + dev_sts_acc) / 2\n",
    "        print(f\"epoch number: {epoch + 1}, avg train accuracy: {train_acc}, avg dev accuracy: {dev_acc}\")\n",
    "\n",
    "        scheduler.step(dev_acc, 'max')\n",
    "\n",
    "        if dev_acc >= best_dev_acc:\n",
    "            best_dev_acc = dev_acc\n",
    "            print('New best model. Saving.')\n",
    "            save_model(model, filepath) "
   ]
  },
  {
   "cell_type": "code",
   "execution_count": 21,
   "metadata": {},
   "outputs": [],
   "source": [
    "def test_singletask_model(filepath1, filepath2):\n",
    "    train_singletask_para_model(para_train, para_dev, filepath1)\n",
    "    train_singletask_sts_model(sts_train, sts_dev, filepath2)\n",
    "\n",
    "    device = torch.device('cuda')\n",
    "\n",
    "    para_model = load_model(filepath1, device)\n",
    "    sts_model = load_model(filepath2, device)\n",
    "\n",
    "    para_acc = eval_singletask_model(para_model, device, para_test, 0, 'test')\n",
    "    sts_acc = eval_singletask_model(sts_model, device, sts_test, 1, 'test')\n",
    "\n",
    "    print(f'Final test accuracy. PARA: {para_acc}, STS: {sts_acc}.')"
   ]
  },
  {
   "cell_type": "code",
   "execution_count": 22,
   "metadata": {},
   "outputs": [
    {
     "name": "stderr",
     "output_type": "stream",
     "text": [
      "/opt/conda/envs/cs229/lib/python3.11/site-packages/torch/optim/adamw.py:50: UserWarning: optimizer contains a parameter group with duplicate parameters; in future, this will cause an error; see github.com/pytorch/pytorch/issues/40967 for more information\n",
      "  super().__init__(params, defaults)\n",
      "train eval: 10it [00:13,  1.30s/it]\n",
      "dev eval: 3it [00:02,  1.03it/s]\n"
     ]
    },
    {
     "name": "stdout",
     "output_type": "stream",
     "text": [
      "epoch number: 0, para train accuracy: 0.6258278145695364, para dev accuracy: 0.6289855072463768\n"
     ]
    },
    {
     "name": "stderr",
     "output_type": "stream",
     "text": [
      "train: 10it [00:13,  1.35s/it]\n",
      "train eval: 10it [00:13,  1.33s/it]\n",
      "dev eval: 3it [00:02,  1.03it/s]\n"
     ]
    },
    {
     "name": "stdout",
     "output_type": "stream",
     "text": [
      "epoch number: 1, para train accuracy: 0.7230960264900662, para dev accuracy: 0.6966183574879227\n",
      "New best model. Saving.\n",
      "saved the model to ./models/para_single\n"
     ]
    },
    {
     "name": "stderr",
     "output_type": "stream",
     "text": [
      "train: 10it [00:12,  1.30s/it]\n",
      "train eval: 10it [00:13,  1.31s/it]\n",
      "dev eval: 3it [00:02,  1.04it/s]\n"
     ]
    },
    {
     "name": "stdout",
     "output_type": "stream",
     "text": [
      "epoch number: 2, para train accuracy: 0.7495860927152318, para dev accuracy: 0.6772946859903382\n"
     ]
    },
    {
     "name": "stderr",
     "output_type": "stream",
     "text": [
      "train: 10it [00:13,  1.32s/it]\n",
      "train eval: 10it [00:13,  1.32s/it]\n",
      "dev eval: 3it [00:02,  1.04it/s]\n"
     ]
    },
    {
     "name": "stdout",
     "output_type": "stream",
     "text": [
      "epoch number: 3, para train accuracy: 0.773385761589404, para dev accuracy: 0.6985507246376812\n",
      "New best model. Saving.\n",
      "saved the model to ./models/para_single\n"
     ]
    },
    {
     "name": "stderr",
     "output_type": "stream",
     "text": [
      "train: 10it [00:12,  1.30s/it]\n",
      "train eval: 10it [00:13,  1.32s/it]\n",
      "dev eval: 3it [00:02,  1.03it/s]\n"
     ]
    },
    {
     "name": "stdout",
     "output_type": "stream",
     "text": [
      "epoch number: 4, para train accuracy: 0.8021523178807947, para dev accuracy: 0.6966183574879227\n"
     ]
    },
    {
     "name": "stderr",
     "output_type": "stream",
     "text": [
      "train: 10it [00:13,  1.33s/it]\n",
      "train eval: 10it [00:13,  1.31s/it]\n",
      "dev eval: 3it [00:02,  1.04it/s]\n"
     ]
    },
    {
     "name": "stdout",
     "output_type": "stream",
     "text": [
      "epoch number: 5, para train accuracy: 0.8269867549668874, para dev accuracy: 0.7120772946859903\n",
      "New best model. Saving.\n",
      "saved the model to ./models/para_single\n"
     ]
    },
    {
     "name": "stderr",
     "output_type": "stream",
     "text": [
      "train: 10it [00:12,  1.29s/it]\n",
      "train eval: 10it [00:13,  1.32s/it]\n",
      "dev eval: 3it [00:02,  1.03it/s]\n"
     ]
    },
    {
     "name": "stdout",
     "output_type": "stream",
     "text": [
      "epoch number: 6, para train accuracy: 0.8534768211920529, para dev accuracy: 0.7169082125603865\n",
      "New best model. Saving.\n",
      "saved the model to ./models/para_single\n"
     ]
    },
    {
     "name": "stderr",
     "output_type": "stream",
     "text": [
      "train: 10it [00:13,  1.31s/it]\n",
      "train eval: 10it [00:13,  1.33s/it]\n",
      "dev eval: 3it [00:02,  1.03it/s]\n"
     ]
    },
    {
     "name": "stdout",
     "output_type": "stream",
     "text": [
      "epoch number: 7, para train accuracy: 0.8739652317880795, para dev accuracy: 0.7091787439613526\n"
     ]
    },
    {
     "name": "stderr",
     "output_type": "stream",
     "text": [
      "train: 10it [00:13,  1.31s/it]\n",
      "train eval: 10it [00:13,  1.31s/it]\n",
      "dev eval: 3it [00:02,  1.05it/s]\n"
     ]
    },
    {
     "name": "stdout",
     "output_type": "stream",
     "text": [
      "epoch number: 8, para train accuracy: 0.894453642384106, para dev accuracy: 0.702415458937198\n"
     ]
    },
    {
     "name": "stderr",
     "output_type": "stream",
     "text": [
      "train: 10it [00:13,  1.30s/it]\n",
      "train eval: 10it [00:13,  1.31s/it]\n",
      "dev eval: 3it [00:02,  1.05it/s]\n"
     ]
    },
    {
     "name": "stdout",
     "output_type": "stream",
     "text": [
      "epoch number: 9, para train accuracy: 0.9174254966887417, para dev accuracy: 0.7091787439613526\n"
     ]
    },
    {
     "name": "stderr",
     "output_type": "stream",
     "text": [
      "train: 10it [00:13,  1.31s/it]\n",
      "train eval: 10it [00:13,  1.31s/it]\n",
      "dev eval: 3it [00:02,  1.04it/s]\n"
     ]
    },
    {
     "name": "stdout",
     "output_type": "stream",
     "text": [
      "epoch number: 10, para train accuracy: 0.9211506622516556, para dev accuracy: 0.693719806763285\n"
     ]
    },
    {
     "name": "stderr",
     "output_type": "stream",
     "text": [
      "train: 10it [00:13,  1.31s/it]\n",
      "train eval: 10it [00:13,  1.31s/it]\n",
      "dev eval: 3it [00:02,  1.05it/s]\n"
     ]
    },
    {
     "name": "stdout",
     "output_type": "stream",
     "text": [
      "epoch number: 11, para train accuracy: 0.929635761589404, para dev accuracy: 0.6801932367149759\n"
     ]
    },
    {
     "name": "stderr",
     "output_type": "stream",
     "text": [
      "train: 10it [00:13,  1.31s/it]\n",
      "train eval: 10it [00:13,  1.31s/it]\n",
      "dev eval: 3it [00:02,  1.05it/s]\n"
     ]
    },
    {
     "name": "stdout",
     "output_type": "stream",
     "text": [
      "epoch number: 12, para train accuracy: 0.941432119205298, para dev accuracy: 0.6888888888888889\n"
     ]
    },
    {
     "name": "stderr",
     "output_type": "stream",
     "text": [
      "train: 10it [00:13,  1.30s/it]\n",
      "train eval: 10it [00:13,  1.31s/it]\n",
      "dev eval: 3it [00:02,  1.04it/s]\n"
     ]
    },
    {
     "name": "stdout",
     "output_type": "stream",
     "text": [
      "epoch number: 13, para train accuracy: 0.9395695364238411, para dev accuracy: 0.6763285024154589\n"
     ]
    },
    {
     "name": "stderr",
     "output_type": "stream",
     "text": [
      "train: 10it [00:13,  1.31s/it]\n",
      "train eval: 10it [00:13,  1.31s/it]\n",
      "dev eval: 3it [00:02,  1.05it/s]\n"
     ]
    },
    {
     "name": "stdout",
     "output_type": "stream",
     "text": [
      "epoch number: 14, para train accuracy: 0.9377069536423841, para dev accuracy: 0.672463768115942\n"
     ]
    },
    {
     "name": "stderr",
     "output_type": "stream",
     "text": [
      "train: 10it [00:13,  1.31s/it]\n",
      "train eval: 10it [00:13,  1.31s/it]\n",
      "dev eval: 3it [00:02,  1.05it/s]\n"
     ]
    },
    {
     "name": "stdout",
     "output_type": "stream",
     "text": [
      "epoch number: 15, para train accuracy: 0.9536423841059603, para dev accuracy: 0.6850241545893719\n"
     ]
    },
    {
     "name": "stderr",
     "output_type": "stream",
     "text": [
      "train: 10it [00:13,  1.31s/it]\n",
      "train eval: 10it [00:13,  1.31s/it]\n",
      "dev eval: 3it [00:02,  1.05it/s]\n"
     ]
    },
    {
     "name": "stdout",
     "output_type": "stream",
     "text": [
      "epoch number: 16, para train accuracy: 0.9612996688741722, para dev accuracy: 0.6763285024154589\n"
     ]
    },
    {
     "name": "stderr",
     "output_type": "stream",
     "text": [
      "train: 10it [00:13,  1.31s/it]\n",
      "train eval: 10it [00:13,  1.31s/it]\n",
      "dev eval: 3it [00:02,  1.05it/s]\n"
     ]
    },
    {
     "name": "stdout",
     "output_type": "stream",
     "text": [
      "epoch number: 17, para train accuracy: 0.9625413907284768, para dev accuracy: 0.6801932367149759\n"
     ]
    },
    {
     "name": "stderr",
     "output_type": "stream",
     "text": [
      "train: 10it [00:13,  1.31s/it]\n",
      "train eval: 10it [00:13,  1.31s/it]\n",
      "dev eval: 3it [00:02,  1.05it/s]\n"
     ]
    },
    {
     "name": "stdout",
     "output_type": "stream",
     "text": [
      "epoch number: 18, para train accuracy: 0.9728890728476821, para dev accuracy: 0.6830917874396135\n"
     ]
    },
    {
     "name": "stderr",
     "output_type": "stream",
     "text": [
      "train: 10it [00:13,  1.31s/it]\n",
      "train eval: 10it [00:13,  1.31s/it]\n",
      "dev eval: 3it [00:02,  1.05it/s]\n"
     ]
    },
    {
     "name": "stdout",
     "output_type": "stream",
     "text": [
      "epoch number: 19, para train accuracy: 0.9782698675496688, para dev accuracy: 0.6859903381642513\n"
     ]
    },
    {
     "name": "stderr",
     "output_type": "stream",
     "text": [
      "train: 10it [00:13,  1.31s/it]\n",
      "train eval: 10it [00:13,  1.30s/it]\n",
      "dev eval: 3it [00:02,  1.05it/s]\n"
     ]
    },
    {
     "name": "stdout",
     "output_type": "stream",
     "text": [
      "epoch number: 20, para train accuracy: 0.9803394039735099, para dev accuracy: 0.6888888888888889\n"
     ]
    },
    {
     "name": "stderr",
     "output_type": "stream",
     "text": [
      "train: 10it [00:13,  1.31s/it]\n",
      "train eval: 10it [00:13,  1.31s/it]\n",
      "dev eval: 3it [00:02,  1.05it/s]\n"
     ]
    },
    {
     "name": "stdout",
     "output_type": "stream",
     "text": [
      "epoch number: 21, para train accuracy: 0.9770281456953642, para dev accuracy: 0.6850241545893719\n"
     ]
    },
    {
     "name": "stderr",
     "output_type": "stream",
     "text": [
      "train: 10it [00:13,  1.30s/it]\n",
      "train eval: 10it [00:13,  1.30s/it]\n",
      "dev eval: 3it [00:02,  1.05it/s]\n"
     ]
    },
    {
     "name": "stdout",
     "output_type": "stream",
     "text": [
      "epoch number: 22, para train accuracy: 0.9788907284768212, para dev accuracy: 0.6850241545893719\n"
     ]
    },
    {
     "name": "stderr",
     "output_type": "stream",
     "text": [
      "train: 10it [00:13,  1.30s/it]\n",
      "train eval: 10it [00:13,  1.30s/it]\n",
      "dev eval: 3it [00:02,  1.04it/s]\n"
     ]
    },
    {
     "name": "stdout",
     "output_type": "stream",
     "text": [
      "epoch number: 23, para train accuracy: 0.9811672185430463, para dev accuracy: 0.6898550724637681\n"
     ]
    },
    {
     "name": "stderr",
     "output_type": "stream",
     "text": [
      "train: 10it [00:13,  1.31s/it]\n",
      "train eval: 10it [00:13,  1.31s/it]\n",
      "dev eval: 3it [00:02,  1.04it/s]\n"
     ]
    },
    {
     "name": "stdout",
     "output_type": "stream",
     "text": [
      "epoch number: 24, para train accuracy: 0.9811672185430463, para dev accuracy: 0.6850241545893719\n"
     ]
    },
    {
     "name": "stderr",
     "output_type": "stream",
     "text": [
      "train: 10it [00:13,  1.31s/it]\n",
      "train eval: 10it [00:13,  1.31s/it]\n",
      "dev eval: 3it [00:02,  1.04it/s]\n"
     ]
    },
    {
     "name": "stdout",
     "output_type": "stream",
     "text": [
      "epoch number: 25, para train accuracy: 0.9797185430463576, para dev accuracy: 0.6811594202898551\n"
     ]
    },
    {
     "name": "stderr",
     "output_type": "stream",
     "text": [
      "train: 10it [00:13,  1.31s/it]\n",
      "train eval: 10it [00:13,  1.33s/it]\n",
      "dev eval: 3it [00:02,  1.04it/s]\n"
     ]
    },
    {
     "name": "stdout",
     "output_type": "stream",
     "text": [
      "epoch number: 26, para train accuracy: 0.9801324503311258, para dev accuracy: 0.6879227053140097\n"
     ]
    },
    {
     "name": "stderr",
     "output_type": "stream",
     "text": [
      "train: 10it [00:13,  1.31s/it]\n",
      "train eval: 10it [00:13,  1.31s/it]\n",
      "dev eval: 3it [00:02,  1.05it/s]\n"
     ]
    },
    {
     "name": "stdout",
     "output_type": "stream",
     "text": [
      "epoch number: 27, para train accuracy: 0.9828228476821192, para dev accuracy: 0.6888888888888889\n"
     ]
    },
    {
     "name": "stderr",
     "output_type": "stream",
     "text": [
      "train: 10it [00:13,  1.31s/it]\n",
      "train eval: 10it [00:13,  1.31s/it]\n",
      "dev eval: 3it [00:02,  1.04it/s]\n"
     ]
    },
    {
     "name": "stdout",
     "output_type": "stream",
     "text": [
      "epoch number: 28, para train accuracy: 0.9830298013245033, para dev accuracy: 0.6869565217391305\n"
     ]
    },
    {
     "name": "stderr",
     "output_type": "stream",
     "text": [
      "train: 10it [00:13,  1.31s/it]\n",
      "train eval: 10it [00:13,  1.31s/it]\n",
      "dev eval: 3it [00:02,  1.05it/s]\n"
     ]
    },
    {
     "name": "stdout",
     "output_type": "stream",
     "text": [
      "epoch number: 29, para train accuracy: 0.9828228476821192, para dev accuracy: 0.6859903381642513\n"
     ]
    },
    {
     "name": "stderr",
     "output_type": "stream",
     "text": [
      "train: 10it [00:13,  1.31s/it]\n",
      "train eval: 10it [00:13,  1.31s/it]\n",
      "dev eval: 3it [00:02,  1.05it/s]\n"
     ]
    },
    {
     "name": "stdout",
     "output_type": "stream",
     "text": [
      "epoch number: 30, para train accuracy: 0.9828228476821192, para dev accuracy: 0.6859903381642513\n",
      "[0.708816389242808, 0.6308514210912917, 0.590099013513989, 0.5534328189161088, 0.5243680510256026, 0.4928599993387858, 0.4567570454544491, 0.4393462969197167, 0.4111957864628898, 0.37858740488688153, 0.3706769446531932, 0.3376441647609075, 0.3306357827451494, 0.3122824596034156, 0.3009393513202667, 0.2920745395951801, 0.2558809510535664, 0.25625719626744586, 0.255104704035653, 0.24221033271816042, 0.2408349687854449, 0.24731316417455673, 0.2311271991994646, 0.23459160410695606, 0.23529094954331717, 0.2270394903090265, 0.22540522697899076, 0.23114805999729368, 0.22415457665920258, 0.21833578166034487]\n"
     ]
    },
    {
     "name": "stderr",
     "output_type": "stream",
     "text": [
      "train eval: 10it [00:11,  1.14s/it]\n",
      "dev eval: 3it [00:02,  1.17it/s]\n"
     ]
    },
    {
     "name": "stdout",
     "output_type": "stream",
     "text": [
      "epoch number: 0, sts train accuracy: 0.18605132450331127, sts dev accuracy: 0.16908212560386474\n"
     ]
    },
    {
     "name": "stderr",
     "output_type": "stream",
     "text": [
      "train: 10it [00:11,  1.15s/it]\n",
      "train eval: 10it [00:11,  1.15s/it]\n",
      "dev eval: 3it [00:02,  1.18it/s]\n"
     ]
    },
    {
     "name": "stdout",
     "output_type": "stream",
     "text": [
      "epoch number: 1, sts train accuracy: 0.3483029801324503, sts dev accuracy: 0.3217391304347826\n",
      "New best model. Saving.\n",
      "saved the model to ./models/sts_single\n"
     ]
    },
    {
     "name": "stderr",
     "output_type": "stream",
     "text": [
      "train: 10it [00:11,  1.14s/it]\n",
      "train eval: 10it [00:11,  1.16s/it]\n",
      "dev eval: 3it [00:02,  1.15it/s]\n"
     ]
    },
    {
     "name": "stdout",
     "output_type": "stream",
     "text": [
      "epoch number: 2, sts train accuracy: 0.41163079470198677, sts dev accuracy: 0.34202898550724636\n",
      "New best model. Saving.\n",
      "saved the model to ./models/sts_single\n"
     ]
    },
    {
     "name": "stderr",
     "output_type": "stream",
     "text": [
      "train: 10it [00:11,  1.15s/it]\n",
      "train eval: 10it [00:11,  1.16s/it]\n",
      "dev eval: 3it [00:02,  1.16it/s]\n"
     ]
    },
    {
     "name": "stdout",
     "output_type": "stream",
     "text": [
      "epoch number: 3, sts train accuracy: 0.4555049668874172, sts dev accuracy: 0.3652173913043478\n",
      "New best model. Saving.\n",
      "saved the model to ./models/sts_single\n"
     ]
    },
    {
     "name": "stderr",
     "output_type": "stream",
     "text": [
      "train: 10it [00:11,  1.14s/it]\n",
      "train eval: 10it [00:11,  1.15s/it]\n",
      "dev eval: 3it [00:02,  1.16it/s]\n"
     ]
    },
    {
     "name": "stdout",
     "output_type": "stream",
     "text": [
      "epoch number: 4, sts train accuracy: 0.4679221854304636, sts dev accuracy: 0.3739130434782609\n",
      "New best model. Saving.\n",
      "saved the model to ./models/sts_single\n"
     ]
    },
    {
     "name": "stderr",
     "output_type": "stream",
     "text": [
      "train: 10it [00:11,  1.14s/it]\n",
      "train eval: 10it [00:11,  1.16s/it]\n",
      "dev eval: 3it [00:02,  1.15it/s]\n"
     ]
    },
    {
     "name": "stdout",
     "output_type": "stream",
     "text": [
      "epoch number: 5, sts train accuracy: 0.4913079470198676, sts dev accuracy: 0.38743961352657\n",
      "New best model. Saving.\n",
      "saved the model to ./models/sts_single\n"
     ]
    },
    {
     "name": "stderr",
     "output_type": "stream",
     "text": [
      "train: 10it [00:11,  1.15s/it]\n",
      "train eval: 10it [00:11,  1.16s/it]\n",
      "dev eval: 3it [00:02,  1.16it/s]\n"
     ]
    },
    {
     "name": "stdout",
     "output_type": "stream",
     "text": [
      "epoch number: 6, sts train accuracy: 0.5140728476821192, sts dev accuracy: 0.3884057971014493\n",
      "New best model. Saving.\n",
      "saved the model to ./models/sts_single\n"
     ]
    },
    {
     "name": "stderr",
     "output_type": "stream",
     "text": [
      "train: 10it [00:11,  1.14s/it]\n",
      "train eval: 10it [00:11,  1.16s/it]\n",
      "dev eval: 3it [00:02,  1.15it/s]\n"
     ]
    },
    {
     "name": "stdout",
     "output_type": "stream",
     "text": [
      "epoch number: 7, sts train accuracy: 0.5113824503311258, sts dev accuracy: 0.3855072463768116\n"
     ]
    },
    {
     "name": "stderr",
     "output_type": "stream",
     "text": [
      "train: 10it [00:11,  1.16s/it]\n",
      "train eval: 10it [00:11,  1.15s/it]\n",
      "dev eval: 3it [00:02,  1.17it/s]\n"
     ]
    },
    {
     "name": "stdout",
     "output_type": "stream",
     "text": [
      "epoch number: 8, sts train accuracy: 0.5262831125827815, sts dev accuracy: 0.3893719806763285\n",
      "New best model. Saving.\n",
      "saved the model to ./models/sts_single\n"
     ]
    },
    {
     "name": "stderr",
     "output_type": "stream",
     "text": [
      "train: 10it [00:11,  1.14s/it]\n",
      "train eval: 10it [00:11,  1.15s/it]\n",
      "dev eval: 3it [00:02,  1.16it/s]\n"
     ]
    },
    {
     "name": "stdout",
     "output_type": "stream",
     "text": [
      "epoch number: 9, sts train accuracy: 0.5403559602649006, sts dev accuracy: 0.4028985507246377\n",
      "New best model. Saving.\n",
      "saved the model to ./models/sts_single\n"
     ]
    },
    {
     "name": "stderr",
     "output_type": "stream",
     "text": [
      "train: 10it [00:11,  1.15s/it]\n",
      "train eval: 10it [00:11,  1.16s/it]\n",
      "dev eval: 3it [00:02,  1.15it/s]\n"
     ]
    },
    {
     "name": "stdout",
     "output_type": "stream",
     "text": [
      "epoch number: 10, sts train accuracy: 0.539114238410596, sts dev accuracy: 0.39516908212560387\n"
     ]
    },
    {
     "name": "stderr",
     "output_type": "stream",
     "text": [
      "train: 10it [00:11,  1.17s/it]\n",
      "train eval: 10it [00:11,  1.15s/it]\n",
      "dev eval: 3it [00:02,  1.18it/s]\n"
     ]
    },
    {
     "name": "stdout",
     "output_type": "stream",
     "text": [
      "epoch number: 11, sts train accuracy: 0.5455298013245033, sts dev accuracy: 0.3961352657004831\n"
     ]
    },
    {
     "name": "stderr",
     "output_type": "stream",
     "text": [
      "train: 10it [00:11,  1.14s/it]\n",
      "train eval: 10it [00:11,  1.14s/it]\n",
      "dev eval: 3it [00:02,  1.19it/s]\n"
     ]
    },
    {
     "name": "stdout",
     "output_type": "stream",
     "text": [
      "epoch number: 12, sts train accuracy: 0.5494619205298014, sts dev accuracy: 0.39710144927536234\n"
     ]
    },
    {
     "name": "stderr",
     "output_type": "stream",
     "text": [
      "train: 10it [00:11,  1.14s/it]\n",
      "train eval: 10it [00:11,  1.14s/it]\n",
      "dev eval: 3it [00:02,  1.17it/s]\n"
     ]
    },
    {
     "name": "stdout",
     "output_type": "stream",
     "text": [
      "epoch number: 13, sts train accuracy: 0.5461506622516556, sts dev accuracy: 0.4077294685990338\n",
      "New best model. Saving.\n",
      "saved the model to ./models/sts_single\n"
     ]
    },
    {
     "name": "stderr",
     "output_type": "stream",
     "text": [
      "train: 10it [00:11,  1.14s/it]\n",
      "train eval: 10it [00:11,  1.16s/it]\n",
      "dev eval: 3it [00:02,  1.15it/s]\n"
     ]
    },
    {
     "name": "stdout",
     "output_type": "stream",
     "text": [
      "epoch number: 14, sts train accuracy: 0.5478062913907285, sts dev accuracy: 0.43091787439613527\n",
      "New best model. Saving.\n",
      "saved the model to ./models/sts_single\n"
     ]
    },
    {
     "name": "stderr",
     "output_type": "stream",
     "text": [
      "train: 10it [00:11,  1.15s/it]\n",
      "train eval: 10it [00:11,  1.16s/it]\n",
      "dev eval: 3it [00:02,  1.17it/s]\n"
     ]
    },
    {
     "name": "stdout",
     "output_type": "stream",
     "text": [
      "epoch number: 15, sts train accuracy: 0.546771523178808, sts dev accuracy: 0.40869565217391307\n"
     ]
    },
    {
     "name": "stderr",
     "output_type": "stream",
     "text": [
      "train: 10it [00:11,  1.16s/it]\n",
      "train eval: 10it [00:11,  1.15s/it]\n",
      "dev eval: 3it [00:02,  1.17it/s]\n"
     ]
    },
    {
     "name": "stdout",
     "output_type": "stream",
     "text": [
      "epoch number: 16, sts train accuracy: 0.5509105960264901, sts dev accuracy: 0.4077294685990338\n"
     ]
    },
    {
     "name": "stderr",
     "output_type": "stream",
     "text": [
      "train: 10it [00:11,  1.15s/it]\n",
      "train eval: 10it [00:11,  1.14s/it]\n",
      "dev eval: 3it [00:02,  1.18it/s]\n"
     ]
    },
    {
     "name": "stdout",
     "output_type": "stream",
     "text": [
      "epoch number: 17, sts train accuracy: 0.5523592715231788, sts dev accuracy: 0.41352657004830917\n"
     ]
    },
    {
     "name": "stderr",
     "output_type": "stream",
     "text": [
      "train: 10it [00:11,  1.14s/it]\n",
      "train eval: 10it [00:11,  1.14s/it]\n",
      "dev eval: 3it [00:02,  1.17it/s]\n"
     ]
    },
    {
     "name": "stdout",
     "output_type": "stream",
     "text": [
      "epoch number: 18, sts train accuracy: 0.5378725165562914, sts dev accuracy: 0.41932367149758454\n"
     ]
    },
    {
     "name": "stderr",
     "output_type": "stream",
     "text": [
      "train: 10it [00:11,  1.15s/it]\n",
      "train eval: 10it [00:11,  1.15s/it]\n",
      "dev eval: 3it [00:02,  1.17it/s]\n"
     ]
    },
    {
     "name": "stdout",
     "output_type": "stream",
     "text": [
      "epoch number: 19, sts train accuracy: 0.546771523178808, sts dev accuracy: 0.41642512077294686\n"
     ]
    },
    {
     "name": "stderr",
     "output_type": "stream",
     "text": [
      "train: 10it [00:11,  1.15s/it]\n",
      "train eval: 10it [00:11,  1.15s/it]\n",
      "dev eval: 3it [00:02,  1.17it/s]\n"
     ]
    },
    {
     "name": "stdout",
     "output_type": "stream",
     "text": [
      "epoch number: 20, sts train accuracy: 0.539114238410596, sts dev accuracy: 0.41739130434782606\n"
     ]
    },
    {
     "name": "stderr",
     "output_type": "stream",
     "text": [
      "train: 10it [00:11,  1.15s/it]\n",
      "train eval: 10it [00:11,  1.15s/it]\n",
      "dev eval: 3it [00:02,  1.17it/s]\n"
     ]
    },
    {
     "name": "stdout",
     "output_type": "stream",
     "text": [
      "epoch number: 21, sts train accuracy: 0.5399420529801324, sts dev accuracy: 0.4222222222222222\n"
     ]
    },
    {
     "name": "stderr",
     "output_type": "stream",
     "text": [
      "train: 10it [00:11,  1.15s/it]\n",
      "train eval: 10it [00:11,  1.15s/it]\n",
      "dev eval: 3it [00:02,  1.17it/s]\n"
     ]
    },
    {
     "name": "stdout",
     "output_type": "stream",
     "text": [
      "epoch number: 22, sts train accuracy: 0.5432533112582781, sts dev accuracy: 0.42318840579710143\n"
     ]
    },
    {
     "name": "stderr",
     "output_type": "stream",
     "text": [
      "train: 10it [00:11,  1.15s/it]\n",
      "train eval: 10it [00:11,  1.14s/it]\n",
      "dev eval: 3it [00:02,  1.17it/s]\n"
     ]
    },
    {
     "name": "stdout",
     "output_type": "stream",
     "text": [
      "epoch number: 23, sts train accuracy: 0.5420115894039735, sts dev accuracy: 0.421256038647343\n"
     ]
    },
    {
     "name": "stderr",
     "output_type": "stream",
     "text": [
      "train: 10it [00:11,  1.15s/it]\n",
      "train eval: 10it [00:11,  1.15s/it]\n",
      "dev eval: 3it [00:02,  1.17it/s]\n"
     ]
    },
    {
     "name": "stdout",
     "output_type": "stream",
     "text": [
      "epoch number: 24, sts train accuracy: 0.5513245033112583, sts dev accuracy: 0.4241545893719807\n"
     ]
    },
    {
     "name": "stderr",
     "output_type": "stream",
     "text": [
      "train: 10it [00:11,  1.15s/it]\n",
      "train eval: 10it [00:11,  1.15s/it]\n",
      "dev eval: 3it [00:02,  1.17it/s]\n"
     ]
    },
    {
     "name": "stdout",
     "output_type": "stream",
     "text": [
      "epoch number: 25, sts train accuracy: 0.5492549668874173, sts dev accuracy: 0.41739130434782606\n"
     ]
    },
    {
     "name": "stderr",
     "output_type": "stream",
     "text": [
      "train: 10it [00:11,  1.15s/it]\n",
      "train eval: 10it [00:11,  1.15s/it]\n",
      "dev eval: 3it [00:02,  1.17it/s]\n"
     ]
    },
    {
     "name": "stdout",
     "output_type": "stream",
     "text": [
      "epoch number: 26, sts train accuracy: 0.5490480132450332, sts dev accuracy: 0.41545893719806765\n"
     ]
    },
    {
     "name": "stderr",
     "output_type": "stream",
     "text": [
      "train: 10it [00:11,  1.15s/it]\n",
      "train eval: 10it [00:11,  1.14s/it]\n",
      "dev eval: 3it [00:02,  1.18it/s]\n"
     ]
    },
    {
     "name": "stdout",
     "output_type": "stream",
     "text": [
      "epoch number: 27, sts train accuracy: 0.5509105960264901, sts dev accuracy: 0.41642512077294686\n"
     ]
    },
    {
     "name": "stderr",
     "output_type": "stream",
     "text": [
      "train: 10it [00:11,  1.15s/it]\n",
      "train eval: 10it [00:11,  1.15s/it]\n",
      "dev eval: 3it [00:02,  1.17it/s]\n"
     ]
    },
    {
     "name": "stdout",
     "output_type": "stream",
     "text": [
      "epoch number: 28, sts train accuracy: 0.5515314569536424, sts dev accuracy: 0.41835748792270533\n"
     ]
    },
    {
     "name": "stderr",
     "output_type": "stream",
     "text": [
      "train: 10it [00:11,  1.15s/it]\n",
      "train eval: 10it [00:11,  1.15s/it]\n",
      "dev eval: 3it [00:02,  1.17it/s]\n"
     ]
    },
    {
     "name": "stdout",
     "output_type": "stream",
     "text": [
      "epoch number: 29, sts train accuracy: 0.5550496688741722, sts dev accuracy: 0.41835748792270533\n"
     ]
    },
    {
     "name": "stderr",
     "output_type": "stream",
     "text": [
      "train: 10it [00:11,  1.15s/it]\n",
      "train eval: 10it [00:11,  1.14s/it]\n",
      "dev eval: 3it [00:02,  1.17it/s]\n"
     ]
    },
    {
     "name": "stdout",
     "output_type": "stream",
     "text": [
      "epoch number: 30, sts train accuracy: 0.5521523178807947, sts dev accuracy: 0.42028985507246375\n",
      "[1.3573209709591336, 0.7716686758730147, 0.6052699254618751, 0.5201089448399014, 0.4403274804353714, 0.3942538582616382, 0.3574813852707545, 0.339253102739652, 0.3015545639726851, 0.29045189917087555, 0.2745344191789627, 0.25882045262389713, 0.25187385496166015, 0.24506449699401855, 0.23776662349700928, 0.22378138535552555, 0.22198566132121617, 0.21616307232115003, 0.20624876850181156, 0.20558428102069431, 0.20274318092399174, 0.1978001677327686, 0.19072595404254067, 0.18572695718871224, 0.18707087470425499, 0.18441949370834562, 0.18161150481965807, 0.17179960591925514, 0.16844090239869225, 0.16922749247815874]\n"
     ]
    },
    {
     "ename": "TypeError",
     "evalue": "cannot unpack non-iterable NLP_Model object",
     "output_type": "error",
     "traceback": [
      "\u001b[0;31m---------------------------------------------------------------------------\u001b[0m",
      "\u001b[0;31mTypeError\u001b[0m                                 Traceback (most recent call last)",
      "Cell \u001b[0;32mIn[22], line 1\u001b[0m\n\u001b[0;32m----> 1\u001b[0m test_singletask_model(\u001b[39m'\u001b[39;49m\u001b[39m./models/para_single\u001b[39;49m\u001b[39m'\u001b[39;49m, \u001b[39m'\u001b[39;49m\u001b[39m./models/sts_single\u001b[39;49m\u001b[39m'\u001b[39;49m)\n",
      "Cell \u001b[0;32mIn[21], line 7\u001b[0m, in \u001b[0;36mtest_singletask_model\u001b[0;34m(filepath1, filepath2)\u001b[0m\n\u001b[1;32m      3\u001b[0m train_singletask_sts_model(sts_train, sts_dev, filepath2)\n\u001b[1;32m      5\u001b[0m device \u001b[39m=\u001b[39m torch\u001b[39m.\u001b[39mdevice(\u001b[39m'\u001b[39m\u001b[39mcuda\u001b[39m\u001b[39m'\u001b[39m)\n\u001b[0;32m----> 7\u001b[0m para_model, _ \u001b[39m=\u001b[39m load_model(filepath1, device)\n\u001b[1;32m      8\u001b[0m sts_model, _ \u001b[39m=\u001b[39m load_model(filepath2, device)\n\u001b[1;32m     10\u001b[0m para_acc \u001b[39m=\u001b[39m eval_singletask_model(para_model, device, para_test, \u001b[39m0\u001b[39m, \u001b[39m'\u001b[39m\u001b[39mtest\u001b[39m\u001b[39m'\u001b[39m)\n",
      "\u001b[0;31mTypeError\u001b[0m: cannot unpack non-iterable NLP_Model object"
     ]
    }
   ],
   "source": [
    "test_singletask_model('./models/para_single', './models/sts_single')"
   ]
  },
  {
   "cell_type": "code",
   "execution_count": null,
   "metadata": {},
   "outputs": [],
   "source": [
    "def test_multitask_model(filepath, pcgrad_flag):\n",
    "    train_multitask_model(para_train, para_dev, sts_train, sts_dev, filepath, pcgrad_flag)\n",
    "\n",
    "    device = torch.device('cuda')\n",
    "\n",
    "    model = load_model(filepath, device)\n",
    "\n",
    "    para_acc = eval_singletask_model(model, device, para_test, 0, 'test')\n",
    "    sts_acc = eval_singletask_model(model, device, sts_test, 1, 'test')\n",
    "\n",
    "    print(f'Final test accuracy. PARA: {para_acc}, STS: {sts_acc}.')"
   ]
  },
  {
   "cell_type": "code",
   "execution_count": null,
   "metadata": {},
   "outputs": [
    {
     "name": "stderr",
     "output_type": "stream",
     "text": [
      "train eval: 1it [00:01,  1.38s/it]\n",
      "dev eval: 1it [00:00,  3.25it/s]\n",
      "train eval: 1it [00:01,  1.28s/it]\n",
      "dev eval: 1it [00:00,  3.26it/s]\n"
     ]
    },
    {
     "name": "stdout",
     "output_type": "stream",
     "text": [
      "epoch number: 0, para train accuracy: 0.36007827788649704, para dev accuracy: 0.36363636363636365, sts train accuracy: 0.1643835616438356, sts dev accuracy: 0.19090909090909092\n",
      "epoch number: 0, avg train accuracy: 0.2622309197651663, avg dev accuracy: 0.2772727272727273\n"
     ]
    },
    {
     "name": "stderr",
     "output_type": "stream",
     "text": [
      "train: 1it [00:02,  2.69s/it]\n",
      "train: 0it [00:02, ?it/s]\n",
      "train eval: 1it [00:01,  1.39s/it]\n",
      "dev eval: 1it [00:00,  3.19it/s]\n",
      "train eval: 1it [00:01,  1.29s/it]\n",
      "dev eval: 1it [00:00,  3.24it/s]\n",
      "/opt/conda/envs/cs229/lib/python3.11/site-packages/torch/optim/lr_scheduler.py:1013: UserWarning: The epoch parameter in `scheduler.step()` was not necessary and is being deprecated where possible. Please use `scheduler.step()` to step the scheduler. During the deprecation, if epoch is different from None, the closed form is used instead of the new chainable form, where available. Please open an issue if you are unable to replicate your use case: https://github.com/pytorch/pytorch/issues/new/choose.\n",
      "  warnings.warn(EPOCH_DEPRECATION_WARNING, UserWarning)\n"
     ]
    },
    {
     "name": "stdout",
     "output_type": "stream",
     "text": [
      "epoch number: 1, para train accuracy: 0.649706457925636, para dev accuracy: 0.6363636363636364, sts train accuracy: 0.2172211350293542, sts dev accuracy: 0.23636363636363636\n",
      "epoch number: 1, avg train accuracy: 0.4334637964774951, avg dev accuracy: 0.43636363636363634\n",
      "New best model. Saving.\n",
      "saved the model to ./models/multitask\n"
     ]
    },
    {
     "name": "stderr",
     "output_type": "stream",
     "text": [
      "train: 1it [00:02,  2.68s/it]\n",
      "train: 0it [00:02, ?it/s]\n",
      "train eval: 1it [00:01,  1.39s/it]\n",
      "dev eval: 1it [00:00,  3.16it/s]\n",
      "train eval: 1it [00:01,  1.29s/it]\n",
      "dev eval: 1it [00:00,  3.24it/s]\n"
     ]
    },
    {
     "name": "stdout",
     "output_type": "stream",
     "text": [
      "epoch number: 2, para train accuracy: 0.7103718199608611, para dev accuracy: 0.6818181818181818, sts train accuracy: 0.2054794520547945, sts dev accuracy: 0.18181818181818182\n",
      "epoch number: 2, avg train accuracy: 0.45792563600782776, avg dev accuracy: 0.43181818181818177\n"
     ]
    },
    {
     "name": "stderr",
     "output_type": "stream",
     "text": [
      "train: 1it [00:02,  2.67s/it]\n",
      "train: 0it [00:02, ?it/s]\n",
      "train eval: 1it [00:01,  1.38s/it]\n",
      "dev eval: 1it [00:00,  3.20it/s]\n",
      "train eval: 1it [00:01,  1.29s/it]\n",
      "dev eval: 1it [00:00,  3.23it/s]\n"
     ]
    },
    {
     "name": "stdout",
     "output_type": "stream",
     "text": [
      "epoch number: 3, para train accuracy: 0.7925636007827789, para dev accuracy: 0.7272727272727273, sts train accuracy: 0.26418786692759294, sts dev accuracy: 0.2636363636363636\n",
      "epoch number: 3, avg train accuracy: 0.5283757338551859, avg dev accuracy: 0.4954545454545455\n",
      "New best model. Saving.\n",
      "saved the model to ./models/multitask\n"
     ]
    },
    {
     "name": "stderr",
     "output_type": "stream",
     "text": [
      "train: 1it [00:02,  2.70s/it]\n",
      "train: 0it [00:02, ?it/s]\n",
      "train eval: 1it [00:01,  1.38s/it]\n",
      "dev eval: 1it [00:00,  3.19it/s]\n",
      "train eval: 1it [00:01,  1.27s/it]\n",
      "dev eval: 1it [00:00,  3.21it/s]\n"
     ]
    },
    {
     "name": "stdout",
     "output_type": "stream",
     "text": [
      "epoch number: 4, para train accuracy: 0.8160469667318982, para dev accuracy: 0.7090909090909091, sts train accuracy: 0.2857142857142857, sts dev accuracy: 0.2\n",
      "epoch number: 4, avg train accuracy: 0.550880626223092, avg dev accuracy: 0.4545454545454546\n"
     ]
    },
    {
     "name": "stderr",
     "output_type": "stream",
     "text": [
      "train: 1it [00:02,  2.66s/it]\n",
      "train: 0it [00:02, ?it/s]\n",
      "train eval: 1it [00:01,  1.40s/it]\n",
      "dev eval: 1it [00:00,  3.24it/s]\n",
      "train eval: 1it [00:01,  1.30s/it]\n",
      "dev eval: 1it [00:00,  3.28it/s]\n"
     ]
    },
    {
     "name": "stdout",
     "output_type": "stream",
     "text": [
      "epoch number: 5, para train accuracy: 0.8199608610567515, para dev accuracy: 0.7, sts train accuracy: 0.2974559686888454, sts dev accuracy: 0.2545454545454545\n",
      "epoch number: 5, avg train accuracy: 0.5587084148727984, avg dev accuracy: 0.47727272727272724\n"
     ]
    },
    {
     "name": "stderr",
     "output_type": "stream",
     "text": [
      "train: 1it [00:02,  2.71s/it]\n",
      "train: 0it [00:02, ?it/s]\n",
      "train eval: 1it [00:01,  1.41s/it]\n",
      "dev eval: 1it [00:00,  3.20it/s]\n",
      "train eval: 1it [00:01,  1.32s/it]\n",
      "dev eval: 1it [00:00,  3.26it/s]\n"
     ]
    },
    {
     "name": "stdout",
     "output_type": "stream",
     "text": [
      "epoch number: 6, para train accuracy: 0.8395303326810176, para dev accuracy: 0.6818181818181818, sts train accuracy: 0.30332681017612523, sts dev accuracy: 0.2727272727272727\n",
      "epoch number: 6, avg train accuracy: 0.5714285714285714, avg dev accuracy: 0.47727272727272724\n"
     ]
    },
    {
     "name": "stderr",
     "output_type": "stream",
     "text": [
      "train: 1it [00:02,  2.73s/it]\n",
      "train: 0it [00:02, ?it/s]\n",
      "train eval: 1it [00:01,  1.41s/it]\n",
      "dev eval: 1it [00:00,  3.20it/s]\n",
      "train eval: 1it [00:01,  1.32s/it]\n",
      "dev eval: 1it [00:00,  3.11it/s]\n"
     ]
    },
    {
     "name": "stdout",
     "output_type": "stream",
     "text": [
      "epoch number: 7, para train accuracy: 0.8551859099804305, para dev accuracy: 0.6818181818181818, sts train accuracy: 0.3268101761252446, sts dev accuracy: 0.2545454545454545\n",
      "epoch number: 7, avg train accuracy: 0.5909980430528375, avg dev accuracy: 0.46818181818181814\n"
     ]
    },
    {
     "name": "stderr",
     "output_type": "stream",
     "text": [
      "train: 1it [00:02,  2.74s/it]\n",
      "train: 0it [00:02, ?it/s]\n",
      "train eval: 1it [00:01,  1.43s/it]\n",
      "dev eval: 1it [00:00,  3.08it/s]\n",
      "train eval: 1it [00:01,  1.32s/it]\n",
      "dev eval: 1it [00:00,  3.11it/s]\n"
     ]
    },
    {
     "name": "stdout",
     "output_type": "stream",
     "text": [
      "epoch number: 8, para train accuracy: 0.8688845401174168, para dev accuracy: 0.6454545454545455, sts train accuracy: 0.37377690802348335, sts dev accuracy: 0.2727272727272727\n",
      "epoch number: 8, avg train accuracy: 0.6213307240704501, avg dev accuracy: 0.4590909090909091\n"
     ]
    },
    {
     "name": "stderr",
     "output_type": "stream",
     "text": [
      "train: 1it [00:02,  2.74s/it]\n",
      "train: 0it [00:02, ?it/s]\n",
      "train eval: 1it [00:01,  1.42s/it]\n",
      "dev eval: 1it [00:00,  3.18it/s]\n",
      "train eval: 1it [00:01,  1.32s/it]\n",
      "dev eval: 1it [00:00,  3.11it/s]\n"
     ]
    },
    {
     "name": "stdout",
     "output_type": "stream",
     "text": [
      "epoch number: 9, para train accuracy: 0.8943248532289628, para dev accuracy: 0.6636363636363637, sts train accuracy: 0.41487279843444225, sts dev accuracy: 0.2818181818181818\n",
      "epoch number: 9, avg train accuracy: 0.6545988258317026, avg dev accuracy: 0.4727272727272728\n"
     ]
    },
    {
     "name": "stderr",
     "output_type": "stream",
     "text": [
      "train: 1it [00:02,  2.71s/it]\n",
      "train: 0it [00:02, ?it/s]\n",
      "train eval: 1it [00:01,  1.40s/it]\n",
      "dev eval: 1it [00:00,  3.22it/s]\n",
      "train eval: 1it [00:01,  1.30s/it]\n",
      "dev eval: 1it [00:00,  3.21it/s]\n"
     ]
    },
    {
     "name": "stdout",
     "output_type": "stream",
     "text": [
      "epoch number: 10, para train accuracy: 0.9412915851272016, para dev accuracy: 0.6636363636363637, sts train accuracy: 0.4520547945205479, sts dev accuracy: 0.23636363636363636\n",
      "epoch number: 10, avg train accuracy: 0.6966731898238747, avg dev accuracy: 0.45\n"
     ]
    },
    {
     "name": "stderr",
     "output_type": "stream",
     "text": [
      "train: 1it [00:02,  2.67s/it]\n",
      "train: 0it [00:02, ?it/s]\n",
      "train eval: 1it [00:01,  1.38s/it]\n",
      "dev eval: 1it [00:00,  3.19it/s]\n",
      "train eval: 1it [00:01,  1.29s/it]\n",
      "dev eval: 1it [00:00,  3.24it/s]\n"
     ]
    },
    {
     "name": "stdout",
     "output_type": "stream",
     "text": [
      "epoch number: 11, para train accuracy: 0.9608610567514677, para dev accuracy: 0.6454545454545455, sts train accuracy: 0.4598825831702544, sts dev accuracy: 0.19090909090909092\n",
      "epoch number: 11, avg train accuracy: 0.7103718199608611, avg dev accuracy: 0.4181818181818182\n"
     ]
    },
    {
     "name": "stderr",
     "output_type": "stream",
     "text": [
      "train: 1it [00:02,  2.68s/it]\n",
      "train: 0it [00:02, ?it/s]\n",
      "train eval: 1it [00:01,  1.38s/it]\n",
      "dev eval: 1it [00:00,  3.17it/s]\n",
      "train eval: 1it [00:01,  1.29s/it]\n",
      "dev eval: 1it [00:00,  3.28it/s]\n"
     ]
    },
    {
     "name": "stdout",
     "output_type": "stream",
     "text": [
      "epoch number: 12, para train accuracy: 0.9726027397260274, para dev accuracy: 0.6636363636363637, sts train accuracy: 0.5264187866927593, sts dev accuracy: 0.21818181818181817\n",
      "epoch number: 12, avg train accuracy: 0.7495107632093934, avg dev accuracy: 0.4409090909090909\n"
     ]
    },
    {
     "name": "stderr",
     "output_type": "stream",
     "text": [
      "train: 1it [00:02,  2.67s/it]\n",
      "train: 0it [00:02, ?it/s]\n",
      "train eval: 1it [00:01,  1.39s/it]\n",
      "dev eval: 1it [00:00,  3.19it/s]\n",
      "train eval: 1it [00:01,  1.29s/it]\n",
      "dev eval: 1it [00:00,  3.29it/s]\n"
     ]
    },
    {
     "name": "stdout",
     "output_type": "stream",
     "text": [
      "epoch number: 13, para train accuracy: 0.974559686888454, para dev accuracy: 0.6454545454545455, sts train accuracy: 0.6007827788649707, sts dev accuracy: 0.24545454545454545\n",
      "epoch number: 13, avg train accuracy: 0.7876712328767124, avg dev accuracy: 0.4454545454545455\n"
     ]
    },
    {
     "name": "stderr",
     "output_type": "stream",
     "text": [
      "train: 1it [00:02,  2.66s/it]\n",
      "train: 0it [00:02, ?it/s]\n",
      "train eval: 1it [00:01,  1.39s/it]\n",
      "dev eval: 1it [00:00,  3.20it/s]\n",
      "train eval: 1it [00:01,  1.29s/it]\n",
      "dev eval: 1it [00:00,  3.22it/s]\n"
     ]
    },
    {
     "name": "stdout",
     "output_type": "stream",
     "text": [
      "epoch number: 14, para train accuracy: 0.9784735812133072, para dev accuracy: 0.6454545454545455, sts train accuracy: 0.6105675146771037, sts dev accuracy: 0.24545454545454545\n",
      "epoch number: 14, avg train accuracy: 0.7945205479452054, avg dev accuracy: 0.4454545454545455\n"
     ]
    },
    {
     "name": "stderr",
     "output_type": "stream",
     "text": [
      "train: 1it [00:02,  2.67s/it]\n",
      "train: 0it [00:02, ?it/s]\n",
      "train eval: 1it [00:01,  1.39s/it]\n",
      "dev eval: 1it [00:00,  3.22it/s]\n",
      "train eval: 1it [00:01,  1.27s/it]\n",
      "dev eval: 1it [00:00,  3.23it/s]\n"
     ]
    },
    {
     "name": "stdout",
     "output_type": "stream",
     "text": [
      "epoch number: 15, para train accuracy: 0.9902152641878669, para dev accuracy: 0.6454545454545455, sts train accuracy: 0.5792563600782779, sts dev accuracy: 0.2\n",
      "epoch number: 15, avg train accuracy: 0.7847358121330723, avg dev accuracy: 0.42272727272727273\n"
     ]
    },
    {
     "name": "stderr",
     "output_type": "stream",
     "text": [
      "train: 1it [00:02,  2.66s/it]\n",
      "train: 0it [00:02, ?it/s]\n",
      "train eval: 1it [00:01,  1.38s/it]\n",
      "dev eval: 1it [00:00,  3.21it/s]\n",
      "train eval: 1it [00:01,  1.28s/it]\n",
      "dev eval: 1it [00:00,  3.27it/s]\n"
     ]
    },
    {
     "name": "stdout",
     "output_type": "stream",
     "text": [
      "epoch number: 16, para train accuracy: 0.9921722113502935, para dev accuracy: 0.6454545454545455, sts train accuracy: 0.639921722113503, sts dev accuracy: 0.2\n",
      "epoch number: 16, avg train accuracy: 0.8160469667318982, avg dev accuracy: 0.42272727272727273\n"
     ]
    },
    {
     "name": "stderr",
     "output_type": "stream",
     "text": [
      "train: 1it [00:02,  2.66s/it]\n",
      "train: 0it [00:02, ?it/s]\n",
      "train eval: 1it [00:01,  1.39s/it]\n",
      "dev eval: 1it [00:00,  3.20it/s]\n",
      "train eval: 1it [00:01,  1.29s/it]\n",
      "dev eval: 1it [00:00,  3.16it/s]\n"
     ]
    },
    {
     "name": "stdout",
     "output_type": "stream",
     "text": [
      "epoch number: 17, para train accuracy: 0.9960861056751468, para dev accuracy: 0.6545454545454545, sts train accuracy: 0.7045009784735812, sts dev accuracy: 0.2636363636363636\n",
      "epoch number: 17, avg train accuracy: 0.850293542074364, avg dev accuracy: 0.4590909090909091\n"
     ]
    },
    {
     "name": "stderr",
     "output_type": "stream",
     "text": [
      "train: 1it [00:02,  2.68s/it]\n",
      "train: 0it [00:02, ?it/s]\n",
      "train eval: 1it [00:01,  1.38s/it]\n",
      "dev eval: 1it [00:00,  3.20it/s]\n",
      "train eval: 1it [00:01,  1.29s/it]\n",
      "dev eval: 1it [00:00,  3.25it/s]\n"
     ]
    },
    {
     "name": "stdout",
     "output_type": "stream",
     "text": [
      "epoch number: 18, para train accuracy: 0.9960861056751468, para dev accuracy: 0.6454545454545455, sts train accuracy: 0.6986301369863014, sts dev accuracy: 0.24545454545454545\n",
      "epoch number: 18, avg train accuracy: 0.8473581213307241, avg dev accuracy: 0.4454545454545455\n"
     ]
    },
    {
     "name": "stderr",
     "output_type": "stream",
     "text": [
      "train: 1it [00:02,  2.68s/it]\n",
      "train: 0it [00:02, ?it/s]\n",
      "train eval: 1it [00:01,  1.39s/it]\n",
      "dev eval: 1it [00:00,  3.21it/s]\n",
      "train eval: 1it [00:01,  1.29s/it]\n",
      "dev eval: 1it [00:00,  3.27it/s]\n"
     ]
    },
    {
     "name": "stdout",
     "output_type": "stream",
     "text": [
      "epoch number: 19, para train accuracy: 0.9960861056751468, para dev accuracy: 0.6545454545454545, sts train accuracy: 0.6908023483365949, sts dev accuracy: 0.22727272727272727\n",
      "epoch number: 19, avg train accuracy: 0.8434442270058709, avg dev accuracy: 0.4409090909090909\n"
     ]
    },
    {
     "name": "stderr",
     "output_type": "stream",
     "text": [
      "train: 1it [00:02,  2.69s/it]\n",
      "train: 0it [00:02, ?it/s]\n",
      "train eval: 1it [00:01,  1.39s/it]\n",
      "dev eval: 1it [00:00,  3.19it/s]\n",
      "train eval: 1it [00:01,  1.30s/it]\n",
      "dev eval: 1it [00:00,  3.24it/s]\n"
     ]
    },
    {
     "name": "stdout",
     "output_type": "stream",
     "text": [
      "epoch number: 20, para train accuracy: 0.9960861056751468, para dev accuracy: 0.6454545454545455, sts train accuracy: 0.7162426614481409, sts dev accuracy: 0.22727272727272727\n",
      "epoch number: 20, avg train accuracy: 0.8561643835616438, avg dev accuracy: 0.4363636363636364\n"
     ]
    },
    {
     "name": "stderr",
     "output_type": "stream",
     "text": [
      "test eval: 1it [00:00,  3.35it/s]\n",
      "test eval: 1it [00:00,  3.45it/s]"
     ]
    },
    {
     "name": "stdout",
     "output_type": "stream",
     "text": [
      "Final test accuracy. PARA: 0.6454545454545455, STS: 0.2636363636363636.\n"
     ]
    },
    {
     "name": "stderr",
     "output_type": "stream",
     "text": [
      "\n"
     ]
    }
   ],
   "source": [
    "test_multitask_model('./models/multitask', False)"
   ]
  },
  {
   "cell_type": "code",
   "execution_count": null,
   "metadata": {},
   "outputs": [
    {
     "name": "stderr",
     "output_type": "stream",
     "text": [
      "train eval: 1it [00:01,  1.40s/it]\n",
      "dev eval: 1it [00:00,  3.26it/s]\n",
      "train eval: 1it [00:01,  1.25s/it]\n",
      "dev eval: 1it [00:00,  3.39it/s]\n"
     ]
    },
    {
     "name": "stdout",
     "output_type": "stream",
     "text": [
      "epoch number: 0, para train accuracy: 0.649706457925636, para dev accuracy: 0.6363636363636364, sts train accuracy: 0.2035225048923679, sts dev accuracy: 0.21818181818181817\n",
      "epoch number: 0, avg train accuracy: 0.42661448140900193, avg dev accuracy: 0.42727272727272725\n"
     ]
    },
    {
     "name": "stderr",
     "output_type": "stream",
     "text": [
      "train: 1it [00:02,  2.61s/it]\n",
      "train: 0it [00:02, ?it/s]\n",
      "train eval: 1it [00:01,  1.35s/it]\n",
      "dev eval: 1it [00:00,  3.29it/s]\n",
      "train eval: 1it [00:01,  1.26s/it]\n",
      "dev eval: 1it [00:00,  3.32it/s]\n",
      "/opt/conda/envs/cs229/lib/python3.11/site-packages/torch/optim/lr_scheduler.py:1013: UserWarning: The epoch parameter in `scheduler.step()` was not necessary and is being deprecated where possible. Please use `scheduler.step()` to step the scheduler. During the deprecation, if epoch is different from None, the closed form is used instead of the new chainable form, where available. Please open an issue if you are unable to replicate your use case: https://github.com/pytorch/pytorch/issues/new/choose.\n",
      "  warnings.warn(EPOCH_DEPRECATION_WARNING, UserWarning)\n"
     ]
    },
    {
     "name": "stdout",
     "output_type": "stream",
     "text": [
      "epoch number: 1, para train accuracy: 0.649706457925636, para dev accuracy: 0.6363636363636364, sts train accuracy: 0.22113502935420742, sts dev accuracy: 0.22727272727272727\n",
      "epoch number: 1, avg train accuracy: 0.43542074363992167, avg dev accuracy: 0.4318181818181818\n",
      "New best model. Saving.\n",
      "saved the model to ./models/multitask_pcgrad\n"
     ]
    },
    {
     "name": "stderr",
     "output_type": "stream",
     "text": [
      "train: 1it [00:02,  2.65s/it]\n",
      "train: 0it [00:02, ?it/s]\n",
      "train eval: 1it [00:01,  1.37s/it]\n",
      "dev eval: 1it [00:00,  3.22it/s]\n",
      "train eval: 1it [00:01,  1.28s/it]\n",
      "dev eval: 1it [00:00,  3.31it/s]\n"
     ]
    },
    {
     "name": "stdout",
     "output_type": "stream",
     "text": [
      "epoch number: 2, para train accuracy: 0.8082191780821918, para dev accuracy: 0.6909090909090909, sts train accuracy: 0.14481409001956946, sts dev accuracy: 0.18181818181818182\n",
      "epoch number: 2, avg train accuracy: 0.4765166340508806, avg dev accuracy: 0.4363636363636364\n",
      "New best model. Saving.\n",
      "saved the model to ./models/multitask_pcgrad\n"
     ]
    },
    {
     "name": "stderr",
     "output_type": "stream",
     "text": [
      "train: 1it [00:02,  2.71s/it]\n",
      "train: 0it [00:02, ?it/s]\n",
      "train eval: 1it [00:01,  1.39s/it]\n",
      "dev eval: 1it [00:00,  3.18it/s]\n",
      "train eval: 1it [00:01,  1.28s/it]\n",
      "dev eval: 1it [00:00,  3.25it/s]\n"
     ]
    },
    {
     "name": "stdout",
     "output_type": "stream",
     "text": [
      "epoch number: 3, para train accuracy: 0.350293542074364, para dev accuracy: 0.36363636363636365, sts train accuracy: 0.14481409001956946, sts dev accuracy: 0.18181818181818182\n",
      "epoch number: 3, avg train accuracy: 0.24755381604696672, avg dev accuracy: 0.2727272727272727\n"
     ]
    },
    {
     "name": "stderr",
     "output_type": "stream",
     "text": [
      "train: 1it [00:02,  2.67s/it]\n",
      "train: 0it [00:02, ?it/s]\n",
      "train eval: 1it [00:01,  1.39s/it]\n",
      "dev eval: 1it [00:00,  3.20it/s]\n",
      "train eval: 1it [00:01,  1.29s/it]\n",
      "dev eval: 1it [00:00,  3.22it/s]\n"
     ]
    },
    {
     "name": "stdout",
     "output_type": "stream",
     "text": [
      "epoch number: 4, para train accuracy: 0.4050880626223092, para dev accuracy: 0.36363636363636365, sts train accuracy: 0.14481409001956946, sts dev accuracy: 0.18181818181818182\n",
      "epoch number: 4, avg train accuracy: 0.2749510763209393, avg dev accuracy: 0.2727272727272727\n"
     ]
    },
    {
     "name": "stderr",
     "output_type": "stream",
     "text": [
      "train: 1it [00:02,  2.68s/it]\n",
      "train: 0it [00:02, ?it/s]\n",
      "train eval: 1it [00:01,  1.39s/it]\n",
      "dev eval: 1it [00:00,  3.22it/s]\n",
      "train eval: 1it [00:01,  1.30s/it]\n",
      "dev eval: 1it [00:00,  3.24it/s]\n"
     ]
    },
    {
     "name": "stdout",
     "output_type": "stream",
     "text": [
      "epoch number: 5, para train accuracy: 0.7534246575342466, para dev accuracy: 0.6181818181818182, sts train accuracy: 0.14481409001956946, sts dev accuracy: 0.18181818181818182\n",
      "epoch number: 5, avg train accuracy: 0.449119373776908, avg dev accuracy: 0.4\n"
     ]
    },
    {
     "name": "stderr",
     "output_type": "stream",
     "text": [
      "train: 1it [00:02,  2.69s/it]\n",
      "train: 0it [00:02, ?it/s]\n",
      "train eval: 1it [00:01,  1.39s/it]\n",
      "dev eval: 1it [00:00,  3.17it/s]\n",
      "train eval: 1it [00:01,  1.30s/it]\n",
      "dev eval: 1it [00:00,  3.14it/s]\n"
     ]
    },
    {
     "name": "stdout",
     "output_type": "stream",
     "text": [
      "epoch number: 6, para train accuracy: 0.7553816046966731, para dev accuracy: 0.7, sts train accuracy: 0.14481409001956946, sts dev accuracy: 0.18181818181818182\n",
      "epoch number: 6, avg train accuracy: 0.4500978473581213, avg dev accuracy: 0.4409090909090909\n",
      "New best model. Saving.\n",
      "saved the model to ./models/multitask_pcgrad\n"
     ]
    },
    {
     "name": "stderr",
     "output_type": "stream",
     "text": [
      "train: 1it [00:02,  2.74s/it]\n",
      "train: 0it [00:02, ?it/s]\n",
      "train eval: 1it [00:01,  1.39s/it]\n",
      "dev eval: 1it [00:00,  3.19it/s]\n",
      "train eval: 1it [00:01,  1.29s/it]\n",
      "dev eval: 1it [00:00,  3.12it/s]\n"
     ]
    },
    {
     "name": "stdout",
     "output_type": "stream",
     "text": [
      "epoch number: 7, para train accuracy: 0.735812133072407, para dev accuracy: 0.7090909090909091, sts train accuracy: 0.14481409001956946, sts dev accuracy: 0.18181818181818182\n",
      "epoch number: 7, avg train accuracy: 0.44031311154598823, avg dev accuracy: 0.44545454545454544\n",
      "New best model. Saving.\n",
      "saved the model to ./models/multitask_pcgrad\n"
     ]
    },
    {
     "name": "stderr",
     "output_type": "stream",
     "text": [
      "train: 0it [00:01, ?it/s]\n",
      "train: 0it [00:01, ?it/s]\n"
     ]
    },
    {
     "ename": "KeyboardInterrupt",
     "evalue": "",
     "output_type": "error",
     "traceback": [
      "\u001b[0;31m---------------------------------------------------------------------------\u001b[0m",
      "\u001b[0;31mKeyboardInterrupt\u001b[0m                         Traceback (most recent call last)",
      "Cell \u001b[0;32mIn[26], line 1\u001b[0m\n\u001b[0;32m----> 1\u001b[0m test_multitask_model(\u001b[39m'\u001b[39;49m\u001b[39m./models/multitask_pcgrad\u001b[39;49m\u001b[39m'\u001b[39;49m, \u001b[39mTrue\u001b[39;49;00m)\n",
      "Cell \u001b[0;32mIn[12], line 2\u001b[0m, in \u001b[0;36mtest_multitask_model\u001b[0;34m(filepath, pcgrad_flag)\u001b[0m\n\u001b[1;32m      1\u001b[0m \u001b[39mdef\u001b[39;00m \u001b[39mtest_multitask_model\u001b[39m(filepath, pcgrad_flag):\n\u001b[0;32m----> 2\u001b[0m     train_multitask_model(para_train, para_dev, sts_train, sts_dev, filepath, pcgrad_flag)\n\u001b[1;32m      4\u001b[0m     device \u001b[39m=\u001b[39m torch\u001b[39m.\u001b[39mdevice(\u001b[39m'\u001b[39m\u001b[39mcuda\u001b[39m\u001b[39m'\u001b[39m)\n\u001b[1;32m      6\u001b[0m     model, _ \u001b[39m=\u001b[39m load_model(filepath, device)\n",
      "Cell \u001b[0;32mIn[22], line 44\u001b[0m, in \u001b[0;36mtrain_multitask_model\u001b[0;34m(para_train, para_dev, sts_train, sts_dev, filepath, pcgrad_flag)\u001b[0m\n\u001b[1;32m     41\u001b[0m optimizer\u001b[39m.\u001b[39mzero_grad()\n\u001b[1;32m     43\u001b[0m para_logits \u001b[39m=\u001b[39m model\u001b[39m.\u001b[39mforward(b_para_sentences1, b_para_sentences2, \u001b[39m0\u001b[39m, device)\u001b[39m.\u001b[39mflatten()\n\u001b[0;32m---> 44\u001b[0m sts_logits \u001b[39m=\u001b[39m model\u001b[39m.\u001b[39;49mforward(b_sts_sentences1, b_sts_sentences2, \u001b[39m1\u001b[39;49m, device)\u001b[39m.\u001b[39mflatten()\n\u001b[1;32m     46\u001b[0m b_para_labels \u001b[39m=\u001b[39m torch\u001b[39m.\u001b[39mas_tensor(b_para_labels\u001b[39m.\u001b[39mvalues, dtype\u001b[39m=\u001b[39mtorch\u001b[39m.\u001b[39mfloat32)\n\u001b[1;32m     47\u001b[0m b_para_labels \u001b[39m=\u001b[39m b_para_labels\u001b[39m.\u001b[39mto(device)\n",
      "Cell \u001b[0;32mIn[17], line 27\u001b[0m, in \u001b[0;36mNLP_Model.forward\u001b[0;34m(self, sentences1, sentences2, task, device)\u001b[0m\n\u001b[1;32m     23\u001b[0m \u001b[39mdef\u001b[39;00m \u001b[39mforward\u001b[39m(\u001b[39mself\u001b[39m, sentences1, sentences2, task, device):\n\u001b[1;32m     24\u001b[0m \u001b[39m    \u001b[39m\u001b[39m'''\u001b[39;00m\n\u001b[1;32m     25\u001b[0m \u001b[39m    Task 0 is para. Task 1 is similarity.\u001b[39;00m\n\u001b[1;32m     26\u001b[0m \u001b[39m    '''\u001b[39;00m\n\u001b[0;32m---> 27\u001b[0m     sentences1 \u001b[39m=\u001b[39m torch\u001b[39m.\u001b[39mas_tensor(\u001b[39mself\u001b[39;49m\u001b[39m.\u001b[39;49mmodel\u001b[39m.\u001b[39;49mencode(sentences1\u001b[39m.\u001b[39;49mtolist()))\n\u001b[1;32m     28\u001b[0m     sentences1 \u001b[39m=\u001b[39m sentences1\u001b[39m.\u001b[39mto(device)\n\u001b[1;32m     29\u001b[0m     sentences2 \u001b[39m=\u001b[39m torch\u001b[39m.\u001b[39mas_tensor(\u001b[39mself\u001b[39m\u001b[39m.\u001b[39mmodel\u001b[39m.\u001b[39mencode(sentences2\u001b[39m.\u001b[39mtolist()))\n",
      "File \u001b[0;32m/opt/conda/envs/cs229/lib/python3.11/site-packages/sentence_transformers/SentenceTransformer.py:188\u001b[0m, in \u001b[0;36mSentenceTransformer.encode\u001b[0;34m(self, sentences, batch_size, show_progress_bar, output_value, convert_to_numpy, convert_to_tensor, device, normalize_embeddings)\u001b[0m\n\u001b[1;32m    186\u001b[0m             \u001b[39m# fixes for #522 and #487 to avoid oom problems on gpu with large datasets\u001b[39;00m\n\u001b[1;32m    187\u001b[0m             \u001b[39mif\u001b[39;00m convert_to_numpy:\n\u001b[0;32m--> 188\u001b[0m                 embeddings \u001b[39m=\u001b[39m embeddings\u001b[39m.\u001b[39;49mcpu()\n\u001b[1;32m    190\u001b[0m         all_embeddings\u001b[39m.\u001b[39mextend(embeddings)\n\u001b[1;32m    192\u001b[0m all_embeddings \u001b[39m=\u001b[39m [all_embeddings[idx] \u001b[39mfor\u001b[39;00m idx \u001b[39min\u001b[39;00m np\u001b[39m.\u001b[39margsort(length_sorted_idx)]\n",
      "\u001b[0;31mKeyboardInterrupt\u001b[0m: "
     ]
    }
   ],
   "source": [
    "test_multitask_model('./models/multitask_pcgrad', True)"
   ]
  }
 ],
 "metadata": {
  "kernelspec": {
   "display_name": "Python 3.7.12 ('base')",
   "language": "python",
   "name": "python3"
  },
  "language_info": {
   "codemirror_mode": {
    "name": "ipython",
    "version": 3
   },
   "file_extension": ".py",
   "mimetype": "text/x-python",
   "name": "python",
   "nbconvert_exporter": "python",
   "pygments_lexer": "ipython3",
   "version": "3.11.3"
  },
  "orig_nbformat": 4,
  "vscode": {
   "interpreter": {
    "hash": "d4d1e4263499bec80672ea0156c357c1ee493ec2b1c70f0acce89fc37c4a6abe"
   }
  }
 },
 "nbformat": 4,
 "nbformat_minor": 2
}
