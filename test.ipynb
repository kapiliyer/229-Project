{
 "cells": [
  {
   "cell_type": "code",
   "execution_count": 2,
   "metadata": {},
   "outputs": [],
   "source": [
    "import pandas as pd\n",
    "from random import sample\n",
    "import random\n",
    "import numpy as np\n",
    "\n",
    "random.seed(0)\n",
    "quora_df = pd.read_csv('./data/quora-train.csv', sep=\"\\t\")\n",
    "sts_df = pd.read_csv('./data/sts-train.csv', sep=\"\\t\")\n",
    "quora_df = quora_df.dropna()\n",
    "sts_df = sts_df.dropna() \n",
    "rand_data = sample(range(1, len(quora_df)-1), len(sts_df)-1)\n",
    "rand_data.insert(0, 0)\n",
    "quora_df_cut = pd.DataFrame([quora_df.iloc[i] for i in rand_data])"
   ]
  },
  {
   "cell_type": "code",
   "execution_count": 3,
   "metadata": {},
   "outputs": [
    {
     "name": "stderr",
     "output_type": "stream",
     "text": [
      "/home/williamhuang/miniconda3/envs/cs229/lib/python3.11/site-packages/tqdm/auto.py:21: TqdmWarning: IProgress not found. Please update jupyter and ipywidgets. See https://ipywidgets.readthedocs.io/en/stable/user_install.html\n",
      "  from .autonotebook import tqdm as notebook_tqdm\n"
     ]
    },
    {
     "name": "stdout",
     "output_type": "stream",
     "text": [
      "[[ 0.02250258 -0.07829181 -0.02303076 ... -0.00827927  0.0265269\n",
      "  -0.00201898]\n",
      " [ 0.04170236  0.0010974  -0.01553419 ... -0.02181627 -0.06359357\n",
      "  -0.00875284]]\n"
     ]
    }
   ],
   "source": [
    "from sentence_transformers import SentenceTransformer\n",
    "sentences = [\"This is an example sentence\", \"Each sentence is converted\"]\n",
    "\n",
    "model = SentenceTransformer('sentence-transformers/all-mpnet-base-v2')\n",
    "embeddings = model.encode(sentences)\n",
    "print(embeddings)"
   ]
  },
  {
   "cell_type": "code",
   "execution_count": 7,
   "metadata": {},
   "outputs": [],
   "source": [
    "quora_1 = list(quora_df_cut['sentence1'])\n",
    "quora_2 = list(quora_df_cut['sentence2'])\n",
    "sts_1 = list(sts_df['sentence1'])\n",
    "sts_2 = list(sts_df['sentence2'])"
   ]
  },
  {
   "cell_type": "code",
   "execution_count": 58,
   "metadata": {},
   "outputs": [
    {
     "name": "stderr",
     "output_type": "stream",
     "text": [
      "Batches: 100%|██████████| 189/189 [00:52<00:00,  3.61it/s]\n",
      "Batches: 100%|██████████| 189/189 [00:52<00:00,  3.60it/s]\n",
      "Batches: 100%|██████████| 189/189 [00:46<00:00,  4.04it/s]\n",
      "Batches: 100%|██████████| 189/189 [00:50<00:00,  3.74it/s]\n"
     ]
    }
   ],
   "source": [
    "sentence_groups = [quora_1, quora_2, sts_1, sts_2]\n",
    "embeddings = [model.encode(group, show_progress_bar=True) for group in sentence_groups]\n",
    "quora_embeddings_1 = pd.DataFrame(embeddings[0])\n",
    "quora_embeddings_2 = pd.DataFrame(embeddings[1])\n",
    "sts_embeddings_1 = pd.DataFrame(embeddings[2])\n",
    "sts_embeddings_2 = pd.DataFrame(embeddings[3])\n",
    "quora_embeddings_1.to_csv(\"quora_embeddings_1.csv\")\n",
    "quora_embeddings_2.to_csv(\"quora_embeddings_2.csv\")\n",
    "sts_embeddings_1.to_csv(\"sts_embeddings_1.csv\")\n",
    "sts_embeddings_2.to_csv(\"sts_embeddings_2.csv\")"
   ]
  },
  {
   "cell_type": "code",
   "execution_count": 15,
   "metadata": {},
   "outputs": [],
   "source": [
    "from torch import nn\n",
    "import torch\n",
    "import torch.nn.functional as F\n",
    "\n",
    "N_PARAPHRASE_CLASSES = 1\n",
    "N_SIMILARITY_CLASSES= 5\n",
    "DROPOUT_PROB = 0.5\n",
    "INPUT_SIZE = 768\n",
    "\n",
    "class Modelo(nn.Module):\n",
    "    def __init__(self, model):\n",
    "        super(Modelo, self).__init__()\n",
    "        self.model = model\n",
    "        self.dropout = nn.Dropout(DROPOUT_PROB)\n",
    "        self.paraphrase_linear = nn.Linear(INPUT_SIZE, INPUT_SIZE // 2)\n",
    "        self.paraphrase_linear_interact = nn.Linear(INPUT_SIZE, N_PARAPHRASE_CLASSES)\n",
    "        self.similarity_linear = nn.Linear(INPUT_SIZE, INPUT_SIZE // 2)\n",
    "        self.similarity_linear_interact = nn.Linear(INPUT_SIZE, N_SIMILARITY_CLASSES)\n",
    "    \n",
    "    def forward(self, sentence1, sentence2, task):\n",
    "        '''\n",
    "        Task 0 is para. Task 1 is similarity.\n",
    "        '''\n",
    "        sentence1 = torch.from_numpy(self.model.encode(sentence1))\n",
    "        sentence2 = torch.from_numpy(self.model.encode(sentence2))\n",
    "        if task == 0:\n",
    "            sentence1 = self.dropout(sentence1)\n",
    "            sentence1 = F.relu(self.paraphrase_linear(sentence1))\n",
    "            sentence2 = self.dropout(sentence2)\n",
    "            sentence2 = F.relu(self.paraphrase_linear(sentence2))\n",
    "            combined = torch.concat((sentence1, sentence2), dim=-1)\n",
    "            combined = self.dropout(combined)\n",
    "            return F.sigmoid(self.paraphrase_linear_interact(combined))\n",
    "        if task == 1:\n",
    "            sentence1 = self.dropout(sentence1)\n",
    "            sentence1 = F.relu(self.similarity_linear(sentence1))\n",
    "            sentence2 = self.dropout(sentence2)\n",
    "            sentence2 = F.relu(self.similarity_linear(sentence2))\n",
    "            combined = torch.concat((sentence1, sentence2), dim=-1)\n",
    "            combined = self.dropout(combined)\n",
    "            return F.softmax(self.similarity_linear_interact(combined), dim=-1)\n"
   ]
  },
  {
   "cell_type": "code",
   "execution_count": null,
   "metadata": {},
   "outputs": [],
   "source": [
    "def save_model(model, optimizer, config, filepath):\n",
    "    save_info = {\n",
    "        'model': model.state_dict(),\n",
    "        'optim': optimizer.state_dict(),\n",
    "        'model_config': config,\n",
    "        'system_rng': random.getstate(),\n",
    "        'numpy_rng': np.random.get_state(),\n",
    "        'torch_rng': torch.random.get_rng_state(),\n",
    "    }\n",
    "\n",
    "    torch.save(save_info, filepath)\n",
    "    print(f\"save the model to {filepath}\")"
   ]
  },
  {
   "attachments": {},
   "cell_type": "markdown",
   "metadata": {},
   "source": [
    "https://huggingface.co/docs/transformers/training#train-in-native-pytorch"
   ]
  },
  {
   "cell_type": "code",
   "execution_count": null,
   "metadata": {},
   "outputs": [],
   "source": [
    "def train_singletask_para_model():\n",
    "    '''\n",
    "    use AdamW optimizer.\n",
    "    binary cross-entropy loss.\n",
    "    make sure to save model at end to a specific path.\n",
    "    '''\n",
    "    model = SentenceTransformer('sentence-transformers/all-mpnet-base-v2')\n",
    "    model.train()\n",
    "    optimizer = AdamW(model.parameters(), lr=5e-5)\n",
    "    pass \n",
    "\n",
    "def train_singletask_sts_model():\n",
    "    '''\n",
    "    use AdamW optimizer.\n",
    "    multi-class cross-entropy loss.\n",
    "    make sure to save model at end to a specific path.\n",
    "    '''\n",
    "    pass\n",
    "\n",
    "def test_singletask_model():\n",
    "    '''\n",
    "    just accuracy for para.\n",
    "    accuracy + MSE for five class.\n",
    "    '''\n",
    "    pass\n",
    "\n",
    "def train_multitask_model():\n",
    "    '''\n",
    "    use AdamW optimizer.\n",
    "    binary cross-entropy loss for para, multi-class cross-entropy loss for sts, sum loss functions. \n",
    "    make sure to save model at end to a specific path.\n",
    "    '''\n",
    "    pass \n",
    "\n",
    "def test_multitask_model():\n",
    "    '''\n",
    "    just accuracy for para.\n",
    "    accuracy + MSE for five class.\n",
    "    '''\n",
    "    pass"
   ]
  }
 ],
 "metadata": {
  "kernelspec": {
   "display_name": "2022",
   "language": "python",
   "name": "python3"
  },
  "language_info": {
   "codemirror_mode": {
    "name": "ipython",
    "version": 3
   },
   "file_extension": ".py",
   "mimetype": "text/x-python",
   "name": "python",
   "nbconvert_exporter": "python",
   "pygments_lexer": "ipython3",
   "version": "3.11.3"
  },
  "orig_nbformat": 4
 },
 "nbformat": 4,
 "nbformat_minor": 2
}
